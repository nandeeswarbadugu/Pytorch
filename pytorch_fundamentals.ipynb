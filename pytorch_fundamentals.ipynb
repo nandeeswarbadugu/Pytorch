{
  "nbformat": 4,
  "nbformat_minor": 0,
  "metadata": {
    "colab": {
      "provenance": [],
      "gpuType": "T4",
      "authorship_tag": "ABX9TyOCEgOXd7I3bhxuA8Vg8tr0",
      "include_colab_link": true
    },
    "kernelspec": {
      "name": "python3",
      "display_name": "Python 3"
    },
    "language_info": {
      "name": "python"
    },
    "accelerator": "GPU"
  },
  "cells": [
    {
      "cell_type": "markdown",
      "metadata": {
        "id": "view-in-github",
        "colab_type": "text"
      },
      "source": [
        "<a href=\"https://colab.research.google.com/github/nandeeswarbadugu/Pytorch/blob/main/pytorch_fundamentals.ipynb\" target=\"_parent\"><img src=\"https://colab.research.google.com/assets/colab-badge.svg\" alt=\"Open In Colab\"/></a>"
      ]
    },
    {
      "cell_type": "code",
      "source": [
        "import torch\n",
        "import pandas as pd\n",
        "import numpy as np\n",
        "import matplotlib.pyplot as plt\n",
        "print(torch.__version__)"
      ],
      "metadata": {
        "colab": {
          "base_uri": "https://localhost:8080/"
        },
        "id": "K0kkZYFRPjyn",
        "outputId": "7bef1c49-ae83-4bc8-c759-91ee6fb8ef1f"
      },
      "execution_count": 1,
      "outputs": [
        {
          "output_type": "stream",
          "name": "stdout",
          "text": [
            "2.6.0+cu124\n"
          ]
        }
      ]
    },
    {
      "cell_type": "markdown",
      "source": [
        "# New Section"
      ],
      "metadata": {
        "id": "hIRWPwxgQT8o"
      }
    },
    {
      "cell_type": "code",
      "source": [
        "# Scalar\n",
        "scalar = torch.tensor(8)\n",
        "scalar\n",
        "scalar.ndim\n",
        "# Scalar is zero dimension\n",
        "# to create tensor use torch.tensor\n",
        "# to extract data from tesnor scalar.item()\n"
      ],
      "metadata": {
        "colab": {
          "base_uri": "https://localhost:8080/"
        },
        "id": "gEmsfvAr3Uu7",
        "outputId": "9430afec-d41d-4402-928d-ce94f2e76d3d"
      },
      "execution_count": 2,
      "outputs": [
        {
          "output_type": "execute_result",
          "data": {
            "text/plain": [
              "0"
            ]
          },
          "metadata": {},
          "execution_count": 2
        }
      ]
    },
    {
      "cell_type": "code",
      "source": [
        "scalar.item()"
      ],
      "metadata": {
        "colab": {
          "base_uri": "https://localhost:8080/"
        },
        "id": "fjXjhZSe4c-n",
        "outputId": "410b227f-41a5-4d6a-f5d2-bc26b7e41987"
      },
      "execution_count": 3,
      "outputs": [
        {
          "output_type": "execute_result",
          "data": {
            "text/plain": [
              "8"
            ]
          },
          "metadata": {},
          "execution_count": 3
        }
      ]
    },
    {
      "cell_type": "code",
      "source": [
        "# vectors\n",
        "vector = torch.tensor([7, 7,8])\n",
        "vector"
      ],
      "metadata": {
        "colab": {
          "base_uri": "https://localhost:8080/"
        },
        "id": "nbo3J2FP6fC8",
        "outputId": "f29b48d6-ae7e-4b7b-e7ac-20857cda0b60"
      },
      "execution_count": 4,
      "outputs": [
        {
          "output_type": "execute_result",
          "data": {
            "text/plain": [
              "tensor([7, 7, 8])"
            ]
          },
          "metadata": {},
          "execution_count": 4
        }
      ]
    },
    {
      "cell_type": "code",
      "source": [
        "vector.ndim\n",
        "# dimension is always 1 for vector\n",
        "vector.shape\n",
        "# shape will be number of elements"
      ],
      "metadata": {
        "colab": {
          "base_uri": "https://localhost:8080/"
        },
        "id": "hnUtUL0U6n_t",
        "outputId": "51cb55e6-212c-418e-ac82-3ce9399b1085"
      },
      "execution_count": 5,
      "outputs": [
        {
          "output_type": "execute_result",
          "data": {
            "text/plain": [
              "torch.Size([3])"
            ]
          },
          "metadata": {},
          "execution_count": 5
        }
      ]
    },
    {
      "cell_type": "code",
      "source": [
        "# Matrix\n",
        "MATRIX = torch.tensor([[1,2,5], [3,4,6], [5,6,7]])\n",
        "MATRIX"
      ],
      "metadata": {
        "colab": {
          "base_uri": "https://localhost:8080/"
        },
        "id": "BoOh8mP56-Fz",
        "outputId": "69562433-77fd-416c-b4e7-435aff5abb4e"
      },
      "execution_count": 6,
      "outputs": [
        {
          "output_type": "execute_result",
          "data": {
            "text/plain": [
              "tensor([[1, 2, 5],\n",
              "        [3, 4, 6],\n",
              "        [5, 6, 7]])"
            ]
          },
          "metadata": {},
          "execution_count": 6
        }
      ]
    },
    {
      "cell_type": "code",
      "source": [
        "MATRIX.ndim\n",
        "# matrix is always two dimensional"
      ],
      "metadata": {
        "colab": {
          "base_uri": "https://localhost:8080/"
        },
        "id": "xasVMotw7LNB",
        "outputId": "685eb5b8-94f3-4ac9-a449-55d6b34b6bb3"
      },
      "execution_count": 7,
      "outputs": [
        {
          "output_type": "execute_result",
          "data": {
            "text/plain": [
              "2"
            ]
          },
          "metadata": {},
          "execution_count": 7
        }
      ]
    },
    {
      "cell_type": "code",
      "source": [
        "MATRIX.shape\n",
        "# three rows three comlums\n",
        "# dim 0 rows\n",
        "# dim 1 columns"
      ],
      "metadata": {
        "colab": {
          "base_uri": "https://localhost:8080/"
        },
        "id": "2IR0LA_18GAB",
        "outputId": "86212ac7-3899-49b8-fae2-f245552adf30"
      },
      "execution_count": 8,
      "outputs": [
        {
          "output_type": "execute_result",
          "data": {
            "text/plain": [
              "torch.Size([3, 3])"
            ]
          },
          "metadata": {},
          "execution_count": 8
        }
      ]
    },
    {
      "cell_type": "code",
      "source": [
        "TENSOR = torch.tensor( [[[1,2,3,6],[4,5,6,10],[10,11,12,13],[10,11,12,13]]])\n",
        "TENSOR"
      ],
      "metadata": {
        "colab": {
          "base_uri": "https://localhost:8080/"
        },
        "id": "w71EL-0h8R6p",
        "outputId": "7aa73311-2128-4faf-a7d1-577cc9aeedfb"
      },
      "execution_count": 9,
      "outputs": [
        {
          "output_type": "execute_result",
          "data": {
            "text/plain": [
              "tensor([[[ 1,  2,  3,  6],\n",
              "         [ 4,  5,  6, 10],\n",
              "         [10, 11, 12, 13],\n",
              "         [10, 11, 12, 13]]])"
            ]
          },
          "metadata": {},
          "execution_count": 9
        }
      ]
    },
    {
      "cell_type": "code",
      "source": [
        "TENSOR.ndim"
      ],
      "metadata": {
        "colab": {
          "base_uri": "https://localhost:8080/"
        },
        "id": "PvmVugVM8ezd",
        "outputId": "d8e0c820-e20d-4d88-af7c-c5c742ac582a"
      },
      "execution_count": 10,
      "outputs": [
        {
          "output_type": "execute_result",
          "data": {
            "text/plain": [
              "3"
            ]
          },
          "metadata": {},
          "execution_count": 10
        }
      ]
    },
    {
      "cell_type": "code",
      "source": [
        "TENSOR.shape"
      ],
      "metadata": {
        "colab": {
          "base_uri": "https://localhost:8080/"
        },
        "id": "UERbtdpi8ip1",
        "outputId": "61fff1c8-ef14-4800-fc93-9b380976f0ca"
      },
      "execution_count": 11,
      "outputs": [
        {
          "output_type": "execute_result",
          "data": {
            "text/plain": [
              "torch.Size([1, 4, 4])"
            ]
          },
          "metadata": {},
          "execution_count": 11
        }
      ]
    },
    {
      "cell_type": "markdown",
      "source": [
        "Random tensors¶\n",
        "We've established tensors represent some form of data.\n",
        "\n",
        "And machine learning models such as neural networks manipulate and seek patterns within tensors.\n",
        "\n",
        "But when building machine learning models with PyTorch, it's rare you'll create tensors by hand (like what we've been doing).\n",
        "\n",
        "Instead, a machine learning model often starts out with large random tensors of numbers and adjusts these random numbers as it works through data to better represent it.\n",
        "\n",
        "In essence:\n",
        "\n",
        "Start with random numbers -> look at data -> update random numbers -> look at data -> update random numbers..."
      ],
      "metadata": {
        "id": "NyFGKvN2WLWq"
      }
    },
    {
      "cell_type": "code",
      "source": [
        "random_tensor = torch.rand(size=(3,4))\n",
        "random_tensor"
      ],
      "metadata": {
        "colab": {
          "base_uri": "https://localhost:8080/"
        },
        "id": "Z7u56M3C8lyh",
        "outputId": "f3313e3c-aa75-4fa9-a603-17ab86a43d5e"
      },
      "execution_count": 12,
      "outputs": [
        {
          "output_type": "execute_result",
          "data": {
            "text/plain": [
              "tensor([[0.5500, 0.3425, 0.9585, 0.2115],\n",
              "        [0.7273, 0.3432, 0.9319, 0.0975],\n",
              "        [0.9207, 0.6666, 0.7001, 0.7452]])"
            ]
          },
          "metadata": {},
          "execution_count": 12
        }
      ]
    },
    {
      "cell_type": "code",
      "source": [
        " random_tensor.ndim"
      ],
      "metadata": {
        "colab": {
          "base_uri": "https://localhost:8080/"
        },
        "id": "YLv8tJqES1by",
        "outputId": "ea9db020-dacc-4d5e-fa2e-ef67c1f5d877"
      },
      "execution_count": 13,
      "outputs": [
        {
          "output_type": "execute_result",
          "data": {
            "text/plain": [
              "2"
            ]
          },
          "metadata": {},
          "execution_count": 13
        }
      ]
    },
    {
      "cell_type": "code",
      "source": [
        "# random tensor with zeros\n",
        "zero_tensor = torch.zeros(size=(5,10,4))\n",
        "zero_tensor"
      ],
      "metadata": {
        "colab": {
          "base_uri": "https://localhost:8080/"
        },
        "id": "0x2h0WHwTT0C",
        "outputId": "c7eeb9b3-cb08-46ed-94dc-c91f24eea73e"
      },
      "execution_count": 14,
      "outputs": [
        {
          "output_type": "execute_result",
          "data": {
            "text/plain": [
              "tensor([[[0., 0., 0., 0.],\n",
              "         [0., 0., 0., 0.],\n",
              "         [0., 0., 0., 0.],\n",
              "         [0., 0., 0., 0.],\n",
              "         [0., 0., 0., 0.],\n",
              "         [0., 0., 0., 0.],\n",
              "         [0., 0., 0., 0.],\n",
              "         [0., 0., 0., 0.],\n",
              "         [0., 0., 0., 0.],\n",
              "         [0., 0., 0., 0.]],\n",
              "\n",
              "        [[0., 0., 0., 0.],\n",
              "         [0., 0., 0., 0.],\n",
              "         [0., 0., 0., 0.],\n",
              "         [0., 0., 0., 0.],\n",
              "         [0., 0., 0., 0.],\n",
              "         [0., 0., 0., 0.],\n",
              "         [0., 0., 0., 0.],\n",
              "         [0., 0., 0., 0.],\n",
              "         [0., 0., 0., 0.],\n",
              "         [0., 0., 0., 0.]],\n",
              "\n",
              "        [[0., 0., 0., 0.],\n",
              "         [0., 0., 0., 0.],\n",
              "         [0., 0., 0., 0.],\n",
              "         [0., 0., 0., 0.],\n",
              "         [0., 0., 0., 0.],\n",
              "         [0., 0., 0., 0.],\n",
              "         [0., 0., 0., 0.],\n",
              "         [0., 0., 0., 0.],\n",
              "         [0., 0., 0., 0.],\n",
              "         [0., 0., 0., 0.]],\n",
              "\n",
              "        [[0., 0., 0., 0.],\n",
              "         [0., 0., 0., 0.],\n",
              "         [0., 0., 0., 0.],\n",
              "         [0., 0., 0., 0.],\n",
              "         [0., 0., 0., 0.],\n",
              "         [0., 0., 0., 0.],\n",
              "         [0., 0., 0., 0.],\n",
              "         [0., 0., 0., 0.],\n",
              "         [0., 0., 0., 0.],\n",
              "         [0., 0., 0., 0.]],\n",
              "\n",
              "        [[0., 0., 0., 0.],\n",
              "         [0., 0., 0., 0.],\n",
              "         [0., 0., 0., 0.],\n",
              "         [0., 0., 0., 0.],\n",
              "         [0., 0., 0., 0.],\n",
              "         [0., 0., 0., 0.],\n",
              "         [0., 0., 0., 0.],\n",
              "         [0., 0., 0., 0.],\n",
              "         [0., 0., 0., 0.],\n",
              "         [0., 0., 0., 0.]]])"
            ]
          },
          "metadata": {},
          "execution_count": 14
        }
      ]
    },
    {
      "cell_type": "code",
      "source": [
        "ones_tensor = torch.ones(size=(5,10,4))\n",
        "ones_tensor\n",
        "ones_tensor.dtype"
      ],
      "metadata": {
        "colab": {
          "base_uri": "https://localhost:8080/"
        },
        "id": "kYZdatycTTxK",
        "outputId": "7d6c190f-b699-4c50-a01d-d5e9768d8b67"
      },
      "execution_count": 15,
      "outputs": [
        {
          "output_type": "execute_result",
          "data": {
            "text/plain": [
              "torch.float32"
            ]
          },
          "metadata": {},
          "execution_count": 15
        }
      ]
    },
    {
      "cell_type": "code",
      "source": [
        "range_tensor = torch.arange(start=0, end=1000, step=77)\n",
        "range_tensor"
      ],
      "metadata": {
        "colab": {
          "base_uri": "https://localhost:8080/"
        },
        "id": "lcHJM5FTTTtv",
        "outputId": "cf061c58-f79c-4140-9b88-fd57ce6424f1"
      },
      "execution_count": 16,
      "outputs": [
        {
          "output_type": "execute_result",
          "data": {
            "text/plain": [
              "tensor([  0,  77, 154, 231, 308, 385, 462, 539, 616, 693, 770, 847, 924])"
            ]
          },
          "metadata": {},
          "execution_count": 16
        }
      ]
    },
    {
      "cell_type": "code",
      "source": [
        "range_tensor = torch.arange(start=0, end=11, step=0.5)\n",
        "range_tensor"
      ],
      "metadata": {
        "colab": {
          "base_uri": "https://localhost:8080/"
        },
        "id": "KG7wtjVOTTqn",
        "outputId": "9fd5e63b-beca-4d3b-e70f-e173985d7b84"
      },
      "execution_count": 17,
      "outputs": [
        {
          "output_type": "execute_result",
          "data": {
            "text/plain": [
              "tensor([ 0.0000,  0.5000,  1.0000,  1.5000,  2.0000,  2.5000,  3.0000,  3.5000,\n",
              "         4.0000,  4.5000,  5.0000,  5.5000,  6.0000,  6.5000,  7.0000,  7.5000,\n",
              "         8.0000,  8.5000,  9.0000,  9.5000, 10.0000, 10.5000])"
            ]
          },
          "metadata": {},
          "execution_count": 17
        }
      ]
    },
    {
      "cell_type": "code",
      "source": [
        "# tesnor types by default tensor type is float32\n",
        "range_tensor.dtype"
      ],
      "metadata": {
        "colab": {
          "base_uri": "https://localhost:8080/"
        },
        "id": "jcQP1edMTTnd",
        "outputId": "9bcf3848-39e8-4a34-9323-07b62a7077ec"
      },
      "execution_count": 18,
      "outputs": [
        {
          "output_type": "execute_result",
          "data": {
            "text/plain": [
              "torch.float32"
            ]
          },
          "metadata": {},
          "execution_count": 18
        }
      ]
    },
    {
      "cell_type": "code",
      "source": [
        "float_32_tensor = torch.tensor([3.0,5.0,6.0],\n",
        "                               dtype=torch.float16,\n",
        "                               device = \"cuda\",\n",
        "                               requires_grad=True)\n",
        "float_32_tensor.shape, float_32_tensor.dtype, float_32_tensor.device"
      ],
      "metadata": {
        "colab": {
          "base_uri": "https://localhost:8080/"
        },
        "id": "RL_T3tP0TTj5",
        "outputId": "978ff1fc-f09a-4d69-ec41-871c0da246be"
      },
      "execution_count": 19,
      "outputs": [
        {
          "output_type": "execute_result",
          "data": {
            "text/plain": [
              "(torch.Size([3]), torch.float16, device(type='cuda', index=0))"
            ]
          },
          "metadata": {},
          "execution_count": 19
        }
      ]
    },
    {
      "cell_type": "code",
      "source": [
        "# Default datatype for tensors is float32\n",
        "float_32_tensor = torch.tensor([3.0, 6.0, 9.0],\n",
        "                               dtype=None, # defaults to None, which is torch.float32 or whatever datatype is passed\n",
        "                               device=None, # defaults to None, which uses the default tensor type\n",
        "                               requires_grad=False) # if True, operations performed on the tensor are recorded\n",
        "\n",
        "float_32_tensor.shape, float_32_tensor.dtype, float_32_tensor.device"
      ],
      "metadata": {
        "colab": {
          "base_uri": "https://localhost:8080/"
        },
        "id": "jXf1t94qVBo_",
        "outputId": "c0b1d94c-d6a3-4092-9f43-6633e2a3aa96"
      },
      "execution_count": 20,
      "outputs": [
        {
          "output_type": "execute_result",
          "data": {
            "text/plain": [
              "(torch.Size([3]), torch.float32, device(type='cpu'))"
            ]
          },
          "metadata": {},
          "execution_count": 20
        }
      ]
    },
    {
      "cell_type": "code",
      "source": [
        "# torch.cuda.is_available()\n",
        "!nvidia-smi\n",
        "torch.cuda.is_available()\n",
        "device = \"cuda\" if torch.cuda.is_available() else \"cpu\"\n",
        "print(device)"
      ],
      "metadata": {
        "colab": {
          "base_uri": "https://localhost:8080/"
        },
        "id": "e9tz4R7ATYk2",
        "outputId": "434f4925-2a6b-47ae-bca3-11da5a9cfc04"
      },
      "execution_count": 21,
      "outputs": [
        {
          "output_type": "stream",
          "name": "stdout",
          "text": [
            "Sun Jul 13 16:30:09 2025       \n",
            "+-----------------------------------------------------------------------------------------+\n",
            "| NVIDIA-SMI 550.54.15              Driver Version: 550.54.15      CUDA Version: 12.4     |\n",
            "|-----------------------------------------+------------------------+----------------------+\n",
            "| GPU  Name                 Persistence-M | Bus-Id          Disp.A | Volatile Uncorr. ECC |\n",
            "| Fan  Temp   Perf          Pwr:Usage/Cap |           Memory-Usage | GPU-Util  Compute M. |\n",
            "|                                         |                        |               MIG M. |\n",
            "|=========================================+========================+======================|\n",
            "|   0  Tesla T4                       Off |   00000000:00:04.0 Off |                    0 |\n",
            "| N/A   38C    P0             26W /   70W |     104MiB /  15360MiB |      0%      Default |\n",
            "|                                         |                        |                  N/A |\n",
            "+-----------------------------------------+------------------------+----------------------+\n",
            "                                                                                         \n",
            "+-----------------------------------------------------------------------------------------+\n",
            "| Processes:                                                                              |\n",
            "|  GPU   GI   CI        PID   Type   Process name                              GPU Memory |\n",
            "|        ID   ID                                                               Usage      |\n",
            "|=========================================================================================|\n",
            "+-----------------------------------------------------------------------------------------+\n",
            "cuda\n"
          ]
        }
      ]
    },
    {
      "cell_type": "code",
      "source": [
        "zero_tensor = torch.zeros(size = (10,3,4))\n",
        "zero_tensor\n",
        "# First dimension has ten elements\n",
        "# each element is an 3 * 4 Matrix"
      ],
      "metadata": {
        "colab": {
          "base_uri": "https://localhost:8080/"
        },
        "collapsed": true,
        "id": "tWI0ASWKXWYm",
        "outputId": "04d3ee44-f19e-46c9-d349-687ad48671c4"
      },
      "execution_count": 22,
      "outputs": [
        {
          "output_type": "execute_result",
          "data": {
            "text/plain": [
              "tensor([[[0., 0., 0., 0.],\n",
              "         [0., 0., 0., 0.],\n",
              "         [0., 0., 0., 0.]],\n",
              "\n",
              "        [[0., 0., 0., 0.],\n",
              "         [0., 0., 0., 0.],\n",
              "         [0., 0., 0., 0.]],\n",
              "\n",
              "        [[0., 0., 0., 0.],\n",
              "         [0., 0., 0., 0.],\n",
              "         [0., 0., 0., 0.]],\n",
              "\n",
              "        [[0., 0., 0., 0.],\n",
              "         [0., 0., 0., 0.],\n",
              "         [0., 0., 0., 0.]],\n",
              "\n",
              "        [[0., 0., 0., 0.],\n",
              "         [0., 0., 0., 0.],\n",
              "         [0., 0., 0., 0.]],\n",
              "\n",
              "        [[0., 0., 0., 0.],\n",
              "         [0., 0., 0., 0.],\n",
              "         [0., 0., 0., 0.]],\n",
              "\n",
              "        [[0., 0., 0., 0.],\n",
              "         [0., 0., 0., 0.],\n",
              "         [0., 0., 0., 0.]],\n",
              "\n",
              "        [[0., 0., 0., 0.],\n",
              "         [0., 0., 0., 0.],\n",
              "         [0., 0., 0., 0.]],\n",
              "\n",
              "        [[0., 0., 0., 0.],\n",
              "         [0., 0., 0., 0.],\n",
              "         [0., 0., 0., 0.]],\n",
              "\n",
              "        [[0., 0., 0., 0.],\n",
              "         [0., 0., 0., 0.],\n",
              "         [0., 0., 0., 0.]]])"
            ]
          },
          "metadata": {},
          "execution_count": 22
        }
      ]
    },
    {
      "cell_type": "code",
      "source": [
        "ones_tensor = torch.ones(size= (10,3,4))\n",
        "ones_tensor"
      ],
      "metadata": {
        "colab": {
          "base_uri": "https://localhost:8080/"
        },
        "collapsed": true,
        "id": "3fxySGabYRsQ",
        "outputId": "44ac6b78-8cdb-4a98-e41b-53b656d705e3"
      },
      "execution_count": 23,
      "outputs": [
        {
          "output_type": "execute_result",
          "data": {
            "text/plain": [
              "tensor([[[1., 1., 1., 1.],\n",
              "         [1., 1., 1., 1.],\n",
              "         [1., 1., 1., 1.]],\n",
              "\n",
              "        [[1., 1., 1., 1.],\n",
              "         [1., 1., 1., 1.],\n",
              "         [1., 1., 1., 1.]],\n",
              "\n",
              "        [[1., 1., 1., 1.],\n",
              "         [1., 1., 1., 1.],\n",
              "         [1., 1., 1., 1.]],\n",
              "\n",
              "        [[1., 1., 1., 1.],\n",
              "         [1., 1., 1., 1.],\n",
              "         [1., 1., 1., 1.]],\n",
              "\n",
              "        [[1., 1., 1., 1.],\n",
              "         [1., 1., 1., 1.],\n",
              "         [1., 1., 1., 1.]],\n",
              "\n",
              "        [[1., 1., 1., 1.],\n",
              "         [1., 1., 1., 1.],\n",
              "         [1., 1., 1., 1.]],\n",
              "\n",
              "        [[1., 1., 1., 1.],\n",
              "         [1., 1., 1., 1.],\n",
              "         [1., 1., 1., 1.]],\n",
              "\n",
              "        [[1., 1., 1., 1.],\n",
              "         [1., 1., 1., 1.],\n",
              "         [1., 1., 1., 1.]],\n",
              "\n",
              "        [[1., 1., 1., 1.],\n",
              "         [1., 1., 1., 1.],\n",
              "         [1., 1., 1., 1.]],\n",
              "\n",
              "        [[1., 1., 1., 1.],\n",
              "         [1., 1., 1., 1.],\n",
              "         [1., 1., 1., 1.]]])"
            ]
          },
          "metadata": {},
          "execution_count": 23
        }
      ]
    },
    {
      "cell_type": "code",
      "source": [
        "random_tensor = torch.rand(size = (10,3,4))\n",
        "random_tensor"
      ],
      "metadata": {
        "colab": {
          "base_uri": "https://localhost:8080/"
        },
        "collapsed": true,
        "id": "DsK-i-CLYaky",
        "outputId": "e22d293d-7eab-4424-a0b5-5de00a8c7d2f"
      },
      "execution_count": 24,
      "outputs": [
        {
          "output_type": "execute_result",
          "data": {
            "text/plain": [
              "tensor([[[0.1044, 0.6580, 0.8729, 0.8911],\n",
              "         [0.4371, 0.5015, 0.7802, 0.7802],\n",
              "         [0.0821, 0.6996, 0.5401, 0.8142]],\n",
              "\n",
              "        [[0.1367, 0.8302, 0.4475, 0.0057],\n",
              "         [0.7296, 0.4847, 0.6668, 0.7815],\n",
              "         [0.5607, 0.3958, 0.3359, 0.3765]],\n",
              "\n",
              "        [[0.1804, 0.4851, 0.1292, 0.0619],\n",
              "         [0.0364, 0.0207, 0.7181, 0.2035],\n",
              "         [0.1868, 0.7044, 0.0914, 0.1440]],\n",
              "\n",
              "        [[0.6851, 0.7362, 0.1744, 0.7456],\n",
              "         [0.8773, 0.7679, 0.2704, 0.0759],\n",
              "         [0.6953, 0.9645, 0.5462, 0.9114]],\n",
              "\n",
              "        [[0.0082, 0.3694, 0.2776, 0.4779],\n",
              "         [0.8127, 0.7869, 0.9356, 0.7647],\n",
              "         [0.7274, 0.2508, 0.0981, 0.7761]],\n",
              "\n",
              "        [[0.6112, 0.5152, 0.2720, 0.1441],\n",
              "         [0.5173, 0.2378, 0.5759, 0.5080],\n",
              "         [0.9643, 0.8303, 0.3439, 0.8614]],\n",
              "\n",
              "        [[0.0584, 0.0061, 0.1498, 0.4484],\n",
              "         [0.6032, 0.2874, 0.0781, 0.7471],\n",
              "         [0.5498, 0.3563, 0.3943, 0.8765]],\n",
              "\n",
              "        [[0.7056, 0.1411, 0.6433, 0.2054],\n",
              "         [0.5695, 0.8176, 0.8310, 0.8109],\n",
              "         [0.1810, 0.1487, 0.5698, 0.6106]],\n",
              "\n",
              "        [[0.9531, 0.2973, 0.2120, 0.1273],\n",
              "         [0.7943, 0.7721, 0.8986, 0.7018],\n",
              "         [0.1334, 0.2091, 0.9562, 0.2299]],\n",
              "\n",
              "        [[0.8637, 0.0309, 0.5969, 0.4100],\n",
              "         [0.7804, 0.4101, 0.3415, 0.2174],\n",
              "         [0.2288, 0.7814, 0.9671, 0.7479]]])"
            ]
          },
          "metadata": {},
          "execution_count": 24
        }
      ]
    },
    {
      "cell_type": "code",
      "source": [
        "range_tensor = torch.arange(0, 60, 0.5).view(10,3,4)\n",
        "range_tensor"
      ],
      "metadata": {
        "colab": {
          "base_uri": "https://localhost:8080/"
        },
        "id": "IJuM4C1VYlnE",
        "outputId": "22af9151-c4e9-42c8-965e-14c5c65f5631"
      },
      "execution_count": 25,
      "outputs": [
        {
          "output_type": "execute_result",
          "data": {
            "text/plain": [
              "tensor([[[ 0.0000,  0.5000,  1.0000,  1.5000],\n",
              "         [ 2.0000,  2.5000,  3.0000,  3.5000],\n",
              "         [ 4.0000,  4.5000,  5.0000,  5.5000]],\n",
              "\n",
              "        [[ 6.0000,  6.5000,  7.0000,  7.5000],\n",
              "         [ 8.0000,  8.5000,  9.0000,  9.5000],\n",
              "         [10.0000, 10.5000, 11.0000, 11.5000]],\n",
              "\n",
              "        [[12.0000, 12.5000, 13.0000, 13.5000],\n",
              "         [14.0000, 14.5000, 15.0000, 15.5000],\n",
              "         [16.0000, 16.5000, 17.0000, 17.5000]],\n",
              "\n",
              "        [[18.0000, 18.5000, 19.0000, 19.5000],\n",
              "         [20.0000, 20.5000, 21.0000, 21.5000],\n",
              "         [22.0000, 22.5000, 23.0000, 23.5000]],\n",
              "\n",
              "        [[24.0000, 24.5000, 25.0000, 25.5000],\n",
              "         [26.0000, 26.5000, 27.0000, 27.5000],\n",
              "         [28.0000, 28.5000, 29.0000, 29.5000]],\n",
              "\n",
              "        [[30.0000, 30.5000, 31.0000, 31.5000],\n",
              "         [32.0000, 32.5000, 33.0000, 33.5000],\n",
              "         [34.0000, 34.5000, 35.0000, 35.5000]],\n",
              "\n",
              "        [[36.0000, 36.5000, 37.0000, 37.5000],\n",
              "         [38.0000, 38.5000, 39.0000, 39.5000],\n",
              "         [40.0000, 40.5000, 41.0000, 41.5000]],\n",
              "\n",
              "        [[42.0000, 42.5000, 43.0000, 43.5000],\n",
              "         [44.0000, 44.5000, 45.0000, 45.5000],\n",
              "         [46.0000, 46.5000, 47.0000, 47.5000]],\n",
              "\n",
              "        [[48.0000, 48.5000, 49.0000, 49.5000],\n",
              "         [50.0000, 50.5000, 51.0000, 51.5000],\n",
              "         [52.0000, 52.5000, 53.0000, 53.5000]],\n",
              "\n",
              "        [[54.0000, 54.5000, 55.0000, 55.5000],\n",
              "         [56.0000, 56.5000, 57.0000, 57.5000],\n",
              "         [58.0000, 58.5000, 59.0000, 59.5000]]])"
            ]
          },
          "metadata": {},
          "execution_count": 25
        }
      ]
    },
    {
      "cell_type": "markdown",
      "source": [
        "Matrix multiplication cond is number of cols in 1st matrix = number of rows in second matrix\n",
        "\n",
        "3 * 2     2  *. 2\n",
        "    -     -\n",
        "\n",
        "resultant matrix is 3 * 2"
      ],
      "metadata": {
        "id": "B3B-36Gvqniv"
      }
    },
    {
      "cell_type": "code",
      "source": [
        "TENSOR_A = torch.rand(size = (3,2))"
      ],
      "metadata": {
        "id": "bxbz-pxorYQV"
      },
      "execution_count": 26,
      "outputs": []
    },
    {
      "cell_type": "code",
      "source": [],
      "metadata": {
        "id": "A6dMOhD2rpa0"
      },
      "execution_count": 26,
      "outputs": []
    },
    {
      "cell_type": "code",
      "source": [],
      "metadata": {
        "id": "rmYWBmN_rpvO"
      },
      "execution_count": 26,
      "outputs": []
    },
    {
      "cell_type": "code",
      "source": [
        "TENSOR_B = torch.rand(size = (2,2))\n",
        "TENSOR_B"
      ],
      "metadata": {
        "colab": {
          "base_uri": "https://localhost:8080/"
        },
        "id": "lVZ4i4Zurg3_",
        "outputId": "e3de7c2c-c2b9-4c4c-a901-bfbbefd6fb6b"
      },
      "execution_count": 27,
      "outputs": [
        {
          "output_type": "execute_result",
          "data": {
            "text/plain": [
              "tensor([[0.6657, 0.0915],\n",
              "        [0.5333, 0.3170]])"
            ]
          },
          "metadata": {},
          "execution_count": 27
        }
      ]
    },
    {
      "cell_type": "markdown",
      "source": [],
      "metadata": {
        "id": "6pVA2-TsrgTP"
      }
    },
    {
      "cell_type": "code",
      "source": [
        "RES_TENSOR = torch.matmul(TENSOR_A, TENSOR_B)\n",
        "RES_TENSOR"
      ],
      "metadata": {
        "colab": {
          "base_uri": "https://localhost:8080/"
        },
        "id": "gYahBj9_r1XD",
        "outputId": "b6104426-bd4f-4cc3-e465-c1fa13e4ddcb"
      },
      "execution_count": 28,
      "outputs": [
        {
          "output_type": "execute_result",
          "data": {
            "text/plain": [
              "tensor([[1.0534, 0.3440],\n",
              "        [0.3938, 0.1831],\n",
              "        [0.6265, 0.2302]])"
            ]
          },
          "metadata": {},
          "execution_count": 28
        }
      ]
    },
    {
      "cell_type": "code",
      "source": [
        "TENSOR_B = torch.rand(size = (3,2))\n",
        "TENSOR_B\n",
        "# transpose matrix\n",
        "TENSOR_B.T"
      ],
      "metadata": {
        "colab": {
          "base_uri": "https://localhost:8080/"
        },
        "id": "jOdjJ9YYsCXh",
        "outputId": "b025b0ab-8d86-48c9-a889-a13c1171e1c2"
      },
      "execution_count": 29,
      "outputs": [
        {
          "output_type": "execute_result",
          "data": {
            "text/plain": [
              "tensor([[0.8794, 0.6141, 0.6879],\n",
              "        [0.4278, 0.6044, 0.4314]])"
            ]
          },
          "metadata": {},
          "execution_count": 29
        }
      ]
    },
    {
      "cell_type": "markdown",
      "source": [
        "Neural networks are full of matrix multiplications and dot products.\n",
        "\n",
        "The torch.nn.Linear() module (we'll see this in action later on), also known as a **feed-forward layer or fully connected layer**, implements a matrix multiplication between an input x and a weights matrix A.\n",
        "\n",
        "$$ y = x\\cdot{A^T} + b $$"
      ],
      "metadata": {
        "id": "aJ4yxvRxsffV"
      }
    },
    {
      "cell_type": "code",
      "source": [
        "torch.manual_seed(45)\n",
        "linear = torch.nn.Linear(in_features = 3, out_features = 6)\n",
        "print(f\"Linear: {linear.weight}\")\n",
        "x = torch.zeros(size = (3,3))\n",
        "print(f\"x matrix is :{x}\")\n",
        "output = linear(x)\n",
        "print(f\"input shape: {x.shape}\")\n",
        "print(f\"output:\\n {output}\\n\\noutput shape: {output.shape}\")\n",
        "\n",
        "# y = mx + b\n",
        "# 3 * 3 mul 3 * 6\n"
      ],
      "metadata": {
        "colab": {
          "base_uri": "https://localhost:8080/"
        },
        "id": "bgJAU0O6nBF8",
        "outputId": "b496fd44-3e57-43fe-be60-27495520a232"
      },
      "execution_count": 46,
      "outputs": [
        {
          "output_type": "stream",
          "name": "stdout",
          "text": [
            "Linear: Parameter containing:\n",
            "tensor([[-0.3615,  0.5327,  0.2118],\n",
            "        [ 0.4605, -0.5190,  0.0640],\n",
            "        [ 0.3304, -0.5120,  0.3282],\n",
            "        [-0.4065, -0.5325, -0.4576],\n",
            "        [-0.0905, -0.3033,  0.3592],\n",
            "        [ 0.0393,  0.2118,  0.1765]], requires_grad=True)\n",
            "x matrix is :tensor([[0., 0., 0.],\n",
            "        [0., 0., 0.],\n",
            "        [0., 0., 0.]])\n",
            "input shape: torch.Size([3, 3])\n",
            "output:\n",
            " tensor([[ 0.1296,  0.5581, -0.3665, -0.4343, -0.0852,  0.5446],\n",
            "        [ 0.1296,  0.5581, -0.3665, -0.4343, -0.0852,  0.5446],\n",
            "        [ 0.1296,  0.5581, -0.3665, -0.4343, -0.0852,  0.5446]],\n",
            "       grad_fn=<AddmmBackward0>)\n",
            "\n",
            "output shape: torch.Size([3, 6])\n"
          ]
        }
      ]
    },
    {
      "cell_type": "markdown",
      "source": [
        "✅ What the Linear Layer Does\n",
        "A PyTorch nn.Linear(in_features, out_features) layer performs this operation:\n",
        "\n",
        "output\n",
        "=\n",
        "𝑥\n",
        "⋅\n",
        "𝑊\n",
        "𝑇\n",
        "+\n",
        "𝑏\n",
        "output=x⋅W\n",
        "T\n",
        " +b\n",
        "Where:\n",
        "\n",
        "𝑥\n",
        "x is your input (shape: [batch_size, in_features])\n",
        "\n",
        "𝑊\n",
        "W is the weight matrix (shape: [out_features, in_features])\n",
        "\n",
        "𝑏\n",
        "b is the bias vector (shape: [out_features])\n",
        "\n",
        "𝑊\n",
        "𝑇\n",
        "W\n",
        "T\n",
        "  is the transpose of weights (shape: [in_features, out_features]), so the matmul x @ W^T gives output of shape [batch_size, out_features]\n",
        "  x is of zize 3 * 3\n",
        "weight matrix is of size 6 * 3\n",
        "it get's transposed so 3 * 6\n",
        "output will be x @ linear.T\n",
        "3 * 6\n"
      ],
      "metadata": {
        "id": "Q_j96mlRtfgn"
      }
    },
    {
      "cell_type": "code",
      "source": [
        "# how to make two random tensors equal\n",
        "# this can be done using manual seed\n",
        "print(linear.weight)\n",
        "print(linear.bias)"
      ],
      "metadata": {
        "colab": {
          "base_uri": "https://localhost:8080/"
        },
        "id": "K9X99T_esPuj",
        "outputId": "f998832e-06f0-44ab-debc-ba5d34089da4"
      },
      "execution_count": 42,
      "outputs": [
        {
          "output_type": "stream",
          "name": "stdout",
          "text": [
            "Parameter containing:\n",
            "tensor([[-0.3615,  0.5327,  0.2118],\n",
            "        [ 0.4605, -0.5190,  0.0640],\n",
            "        [ 0.3304, -0.5120,  0.3282],\n",
            "        [-0.4065, -0.5325, -0.4576],\n",
            "        [-0.0905, -0.3033,  0.3592],\n",
            "        [ 0.0393,  0.2118,  0.1765]], requires_grad=True)\n",
            "Parameter containing:\n",
            "tensor([ 0.1296,  0.5581, -0.3665, -0.4343, -0.0852,  0.5446],\n",
            "       requires_grad=True)\n"
          ]
        }
      ]
    },
    {
      "cell_type": "code",
      "source": [
        "# Create a tensor\n",
        "x = torch.arange(0, 100, 10)\n",
        "print(f\"x is : {x}\")\n",
        "\n",
        "print(f\"Minimum: {x.min()}\")\n",
        "print(f\"Maximum: {x.max()}\")\n",
        "print(f\"Mean: {x.type(torch.float).mean()}\")\n",
        "print(f\"Sum: {x.sum()}\")"
      ],
      "metadata": {
        "colab": {
          "base_uri": "https://localhost:8080/"
        },
        "id": "YGcC7pLpybps",
        "outputId": "e1bc16f4-32c5-4fde-a629-6301356909c6"
      },
      "execution_count": 52,
      "outputs": [
        {
          "output_type": "stream",
          "name": "stdout",
          "text": [
            "x is : tensor([ 0, 10, 20, 30, 40, 50, 60, 70, 80, 90])\n",
            "Minimum: 0\n",
            "Maximum: 90\n",
            "Mean: 45.0\n",
            "Sum: 450\n"
          ]
        }
      ]
    },
    {
      "cell_type": "code",
      "source": [
        "torch.max(x), torch.min(x), torch.mean(x.type(torch.float32)), torch.sum(x)"
      ],
      "metadata": {
        "colab": {
          "base_uri": "https://localhost:8080/"
        },
        "id": "cMk8eqAtzSkd",
        "outputId": "431cd320-a04e-4abb-b617-86317f0b68d9"
      },
      "execution_count": 53,
      "outputs": [
        {
          "output_type": "execute_result",
          "data": {
            "text/plain": [
              "(tensor(90), tensor(0), tensor(45.), tensor(450))"
            ]
          },
          "metadata": {},
          "execution_count": 53
        }
      ]
    },
    {
      "cell_type": "code",
      "source": [
        "# Create a tensor\n",
        "tensor = torch.arange(10, 100, 10)\n",
        "print(f\"Tensor: {tensor}\")\n",
        "\n",
        "# Returns index of max and min values\n",
        "print(f\"Index where max value occurs: {tensor.argmax()}\")\n",
        "print(f\"Index where min value occurs: {tensor.argmin()}\")"
      ],
      "metadata": {
        "colab": {
          "base_uri": "https://localhost:8080/"
        },
        "id": "js2vIO_MzcuT",
        "outputId": "60c9c358-e917-4a50-c9f8-ef1d63295e89"
      },
      "execution_count": 54,
      "outputs": [
        {
          "output_type": "stream",
          "name": "stdout",
          "text": [
            "Tensor: tensor([10, 20, 30, 40, 50, 60, 70, 80, 90])\n",
            "Index where max value occurs: 8\n",
            "Index where min value occurs: 0\n"
          ]
        }
      ]
    },
    {
      "cell_type": "markdown",
      "source": [
        "Data type manipulation"
      ],
      "metadata": {
        "id": "QqxV5Fw1zmV3"
      }
    },
    {
      "cell_type": "code",
      "source": [
        "# Create two tensor with type float32 and float 16\n",
        "tensor = torch.arange(10.,100.,10.)\n",
        "tensor.dtype"
      ],
      "metadata": {
        "colab": {
          "base_uri": "https://localhost:8080/"
        },
        "id": "omVmUF17zpsV",
        "outputId": "fc19ac4f-68a9-4e1d-cdca-bce717127598"
      },
      "execution_count": 57,
      "outputs": [
        {
          "output_type": "execute_result",
          "data": {
            "text/plain": [
              "torch.float32"
            ]
          },
          "metadata": {},
          "execution_count": 57
        }
      ]
    },
    {
      "cell_type": "markdown",
      "source": [
        "You can change the datatypes of tensors using torch.Tensor.type(dtype=None) where the dtype parameter is the datatype you'd like to use."
      ],
      "metadata": {
        "id": "ow-IY0BX0QLV"
      }
    },
    {
      "cell_type": "code",
      "source": [
        "tensor_float16 = tensor.type(torch.float16)\n",
        "tensor_float16"
      ],
      "metadata": {
        "colab": {
          "base_uri": "https://localhost:8080/"
        },
        "id": "HLQHzu3Qz9XU",
        "outputId": "b90fb66c-059c-4766-f1f4-22c2f257b745"
      },
      "execution_count": 60,
      "outputs": [
        {
          "output_type": "execute_result",
          "data": {
            "text/plain": [
              "tensor([10., 20., 30., 40., 50., 60., 70., 80., 90.], dtype=torch.float16)"
            ]
          },
          "metadata": {},
          "execution_count": 60
        }
      ]
    },
    {
      "cell_type": "code",
      "source": [
        "# Create an int8 tensor\n",
        "tensor_int8 = tensor.type(torch.int8)\n",
        "tensor_int8"
      ],
      "metadata": {
        "colab": {
          "base_uri": "https://localhost:8080/"
        },
        "id": "tI9y2dr30YFi",
        "outputId": "9d82a549-85b7-474c-b91e-8b3103b5ecad"
      },
      "execution_count": 59,
      "outputs": [
        {
          "output_type": "execute_result",
          "data": {
            "text/plain": [
              "tensor([10, 20, 30, 40, 50, 60, 70, 80, 90], dtype=torch.int8)"
            ]
          },
          "metadata": {},
          "execution_count": 59
        }
      ]
    }
  ]
}