{
  "nbformat": 4,
  "nbformat_minor": 0,
  "metadata": {
    "colab": {
      "provenance": [],
      "gpuType": "T4",
      "authorship_tag": "ABX9TyPZhQo9Z0RPyAyKYis6GhlD",
      "include_colab_link": true
    },
    "kernelspec": {
      "name": "python3",
      "display_name": "Python 3"
    },
    "language_info": {
      "name": "python"
    },
    "accelerator": "GPU"
  },
  "cells": [
    {
      "cell_type": "markdown",
      "metadata": {
        "id": "view-in-github",
        "colab_type": "text"
      },
      "source": [
        "<a href=\"https://colab.research.google.com/github/nandeeswarbadugu/Pytorch/blob/main/pytorch_fundamentals.ipynb\" target=\"_parent\"><img src=\"https://colab.research.google.com/assets/colab-badge.svg\" alt=\"Open In Colab\"/></a>"
      ]
    },
    {
      "cell_type": "code",
      "source": [
        "import torch\n",
        "import pandas as pd\n",
        "import numpy as np\n",
        "import matplotlib.pyplot as plt\n",
        "print(torch.__version__)"
      ],
      "metadata": {
        "colab": {
          "base_uri": "https://localhost:8080/"
        },
        "id": "K0kkZYFRPjyn",
        "outputId": "f358d021-4a6d-421b-9da0-d42342f0842f"
      },
      "execution_count": 2,
      "outputs": [
        {
          "output_type": "stream",
          "name": "stdout",
          "text": [
            "2.6.0+cu124\n"
          ]
        }
      ]
    },
    {
      "cell_type": "markdown",
      "source": [
        "# New Section"
      ],
      "metadata": {
        "id": "hIRWPwxgQT8o"
      }
    },
    {
      "cell_type": "code",
      "source": [
        "# Scalar\n",
        "scalar = torch.tensor(8)\n",
        "scalar\n",
        "scalar.ndim\n",
        "# Scalar is zero dimension\n",
        "# to create tensor use torch.tensor\n",
        "# to extract data from tesnor scalar.item()\n"
      ],
      "metadata": {
        "colab": {
          "base_uri": "https://localhost:8080/"
        },
        "id": "gEmsfvAr3Uu7",
        "outputId": "1809531c-2ba3-41f2-9b93-e81adaadb873"
      },
      "execution_count": 3,
      "outputs": [
        {
          "output_type": "execute_result",
          "data": {
            "text/plain": [
              "0"
            ]
          },
          "metadata": {},
          "execution_count": 3
        }
      ]
    },
    {
      "cell_type": "code",
      "source": [
        "scalar.item()"
      ],
      "metadata": {
        "colab": {
          "base_uri": "https://localhost:8080/"
        },
        "id": "fjXjhZSe4c-n",
        "outputId": "a5dee55a-bad0-420f-dd8c-f6e321d35b1d"
      },
      "execution_count": 4,
      "outputs": [
        {
          "output_type": "execute_result",
          "data": {
            "text/plain": [
              "8"
            ]
          },
          "metadata": {},
          "execution_count": 4
        }
      ]
    },
    {
      "cell_type": "code",
      "source": [
        "# vectors\n",
        "vector = torch.tensor([7, 7,8])\n",
        "vector"
      ],
      "metadata": {
        "colab": {
          "base_uri": "https://localhost:8080/"
        },
        "id": "nbo3J2FP6fC8",
        "outputId": "ec153aec-8054-4e26-9305-7b58390c72e1"
      },
      "execution_count": 5,
      "outputs": [
        {
          "output_type": "execute_result",
          "data": {
            "text/plain": [
              "tensor([7, 7, 8])"
            ]
          },
          "metadata": {},
          "execution_count": 5
        }
      ]
    },
    {
      "cell_type": "code",
      "source": [
        "vector.ndim\n",
        "# dimension is always 1 for vector\n",
        "vector.shape\n",
        "# shape will be number of elements"
      ],
      "metadata": {
        "colab": {
          "base_uri": "https://localhost:8080/"
        },
        "id": "hnUtUL0U6n_t",
        "outputId": "79b38a0b-842a-4c84-b46d-87d1ac74f243"
      },
      "execution_count": 6,
      "outputs": [
        {
          "output_type": "execute_result",
          "data": {
            "text/plain": [
              "torch.Size([3])"
            ]
          },
          "metadata": {},
          "execution_count": 6
        }
      ]
    },
    {
      "cell_type": "code",
      "source": [
        "# Matrix\n",
        "MATRIX = torch.tensor([[1,2,5], [3,4,6], [5,6,7]])\n",
        "MATRIX"
      ],
      "metadata": {
        "colab": {
          "base_uri": "https://localhost:8080/"
        },
        "id": "BoOh8mP56-Fz",
        "outputId": "b4db0cf9-8bbc-48ec-ea5f-5cc458929b78"
      },
      "execution_count": 7,
      "outputs": [
        {
          "output_type": "execute_result",
          "data": {
            "text/plain": [
              "tensor([[1, 2, 5],\n",
              "        [3, 4, 6],\n",
              "        [5, 6, 7]])"
            ]
          },
          "metadata": {},
          "execution_count": 7
        }
      ]
    },
    {
      "cell_type": "code",
      "source": [
        "MATRIX.ndim\n",
        "# matrix is always two dimensional"
      ],
      "metadata": {
        "colab": {
          "base_uri": "https://localhost:8080/"
        },
        "id": "xasVMotw7LNB",
        "outputId": "491f7881-782e-4917-af48-9ad021acb09f"
      },
      "execution_count": 8,
      "outputs": [
        {
          "output_type": "execute_result",
          "data": {
            "text/plain": [
              "2"
            ]
          },
          "metadata": {},
          "execution_count": 8
        }
      ]
    },
    {
      "cell_type": "code",
      "source": [
        "MATRIX.shape\n",
        "# three rows three comlums\n",
        "# dim 0 rows\n",
        "# dim 1 columns"
      ],
      "metadata": {
        "colab": {
          "base_uri": "https://localhost:8080/"
        },
        "id": "2IR0LA_18GAB",
        "outputId": "953c2cdc-6aca-4c75-d5df-a460d601be6e"
      },
      "execution_count": 9,
      "outputs": [
        {
          "output_type": "execute_result",
          "data": {
            "text/plain": [
              "torch.Size([3, 3])"
            ]
          },
          "metadata": {},
          "execution_count": 9
        }
      ]
    },
    {
      "cell_type": "code",
      "source": [
        "TENSOR = torch.tensor( [[[1,2,3,6],[4,5,6,10],[10,11,12,13],[10,11,12,13]]])\n",
        "TENSOR"
      ],
      "metadata": {
        "colab": {
          "base_uri": "https://localhost:8080/"
        },
        "id": "w71EL-0h8R6p",
        "outputId": "ceafb7bb-cd2d-4e24-81de-78764e9e7f38"
      },
      "execution_count": 10,
      "outputs": [
        {
          "output_type": "execute_result",
          "data": {
            "text/plain": [
              "tensor([[[ 1,  2,  3,  6],\n",
              "         [ 4,  5,  6, 10],\n",
              "         [10, 11, 12, 13],\n",
              "         [10, 11, 12, 13]]])"
            ]
          },
          "metadata": {},
          "execution_count": 10
        }
      ]
    },
    {
      "cell_type": "code",
      "source": [
        "TENSOR.ndim"
      ],
      "metadata": {
        "colab": {
          "base_uri": "https://localhost:8080/"
        },
        "id": "PvmVugVM8ezd",
        "outputId": "0b5c69a7-bdb9-4a35-c5df-15ad386a85e5"
      },
      "execution_count": 11,
      "outputs": [
        {
          "output_type": "execute_result",
          "data": {
            "text/plain": [
              "3"
            ]
          },
          "metadata": {},
          "execution_count": 11
        }
      ]
    },
    {
      "cell_type": "code",
      "source": [
        "TENSOR.shape"
      ],
      "metadata": {
        "colab": {
          "base_uri": "https://localhost:8080/"
        },
        "id": "UERbtdpi8ip1",
        "outputId": "fcd41f27-51fe-4981-dda2-1e6b75a6d024"
      },
      "execution_count": 12,
      "outputs": [
        {
          "output_type": "execute_result",
          "data": {
            "text/plain": [
              "torch.Size([1, 4, 4])"
            ]
          },
          "metadata": {},
          "execution_count": 12
        }
      ]
    },
    {
      "cell_type": "markdown",
      "source": [
        "Random tensors¶\n",
        "We've established tensors represent some form of data.\n",
        "\n",
        "And machine learning models such as neural networks manipulate and seek patterns within tensors.\n",
        "\n",
        "But when building machine learning models with PyTorch, it's rare you'll create tensors by hand (like what we've been doing).\n",
        "\n",
        "Instead, a machine learning model often starts out with large random tensors of numbers and adjusts these random numbers as it works through data to better represent it.\n",
        "\n",
        "In essence:\n",
        "\n",
        "Start with random numbers -> look at data -> update random numbers -> look at data -> update random numbers..."
      ],
      "metadata": {
        "id": "NyFGKvN2WLWq"
      }
    },
    {
      "cell_type": "code",
      "source": [
        "random_tensor = torch.rand(size=(3,4))\n",
        "random_tensor"
      ],
      "metadata": {
        "colab": {
          "base_uri": "https://localhost:8080/"
        },
        "id": "Z7u56M3C8lyh",
        "outputId": "4ce4e1eb-5fc6-49ee-daf9-80352d660a55"
      },
      "execution_count": 13,
      "outputs": [
        {
          "output_type": "execute_result",
          "data": {
            "text/plain": [
              "tensor([[0.8897, 0.1644, 0.9353, 0.1430],\n",
              "        [0.6426, 0.0950, 0.3038, 0.9239],\n",
              "        [0.7522, 0.5699, 0.2034, 0.7818]])"
            ]
          },
          "metadata": {},
          "execution_count": 13
        }
      ]
    },
    {
      "cell_type": "code",
      "source": [
        " random_tensor.ndim"
      ],
      "metadata": {
        "colab": {
          "base_uri": "https://localhost:8080/"
        },
        "id": "YLv8tJqES1by",
        "outputId": "525b92d2-36f9-46f9-a509-9cfd9791e0ba"
      },
      "execution_count": 14,
      "outputs": [
        {
          "output_type": "execute_result",
          "data": {
            "text/plain": [
              "2"
            ]
          },
          "metadata": {},
          "execution_count": 14
        }
      ]
    },
    {
      "cell_type": "code",
      "source": [
        "# random tensor with zeros\n",
        "zero_tensor = torch.zeros(size=(5,10,4))\n",
        "zero_tensor"
      ],
      "metadata": {
        "colab": {
          "base_uri": "https://localhost:8080/"
        },
        "id": "0x2h0WHwTT0C",
        "outputId": "451d2472-2c4c-4bab-b800-5714479db524"
      },
      "execution_count": 15,
      "outputs": [
        {
          "output_type": "execute_result",
          "data": {
            "text/plain": [
              "tensor([[[0., 0., 0., 0.],\n",
              "         [0., 0., 0., 0.],\n",
              "         [0., 0., 0., 0.],\n",
              "         [0., 0., 0., 0.],\n",
              "         [0., 0., 0., 0.],\n",
              "         [0., 0., 0., 0.],\n",
              "         [0., 0., 0., 0.],\n",
              "         [0., 0., 0., 0.],\n",
              "         [0., 0., 0., 0.],\n",
              "         [0., 0., 0., 0.]],\n",
              "\n",
              "        [[0., 0., 0., 0.],\n",
              "         [0., 0., 0., 0.],\n",
              "         [0., 0., 0., 0.],\n",
              "         [0., 0., 0., 0.],\n",
              "         [0., 0., 0., 0.],\n",
              "         [0., 0., 0., 0.],\n",
              "         [0., 0., 0., 0.],\n",
              "         [0., 0., 0., 0.],\n",
              "         [0., 0., 0., 0.],\n",
              "         [0., 0., 0., 0.]],\n",
              "\n",
              "        [[0., 0., 0., 0.],\n",
              "         [0., 0., 0., 0.],\n",
              "         [0., 0., 0., 0.],\n",
              "         [0., 0., 0., 0.],\n",
              "         [0., 0., 0., 0.],\n",
              "         [0., 0., 0., 0.],\n",
              "         [0., 0., 0., 0.],\n",
              "         [0., 0., 0., 0.],\n",
              "         [0., 0., 0., 0.],\n",
              "         [0., 0., 0., 0.]],\n",
              "\n",
              "        [[0., 0., 0., 0.],\n",
              "         [0., 0., 0., 0.],\n",
              "         [0., 0., 0., 0.],\n",
              "         [0., 0., 0., 0.],\n",
              "         [0., 0., 0., 0.],\n",
              "         [0., 0., 0., 0.],\n",
              "         [0., 0., 0., 0.],\n",
              "         [0., 0., 0., 0.],\n",
              "         [0., 0., 0., 0.],\n",
              "         [0., 0., 0., 0.]],\n",
              "\n",
              "        [[0., 0., 0., 0.],\n",
              "         [0., 0., 0., 0.],\n",
              "         [0., 0., 0., 0.],\n",
              "         [0., 0., 0., 0.],\n",
              "         [0., 0., 0., 0.],\n",
              "         [0., 0., 0., 0.],\n",
              "         [0., 0., 0., 0.],\n",
              "         [0., 0., 0., 0.],\n",
              "         [0., 0., 0., 0.],\n",
              "         [0., 0., 0., 0.]]])"
            ]
          },
          "metadata": {},
          "execution_count": 15
        }
      ]
    },
    {
      "cell_type": "code",
      "source": [
        "ones_tensor = torch.ones(size=(5,10,4))\n",
        "ones_tensor\n",
        "ones_tensor.dtype"
      ],
      "metadata": {
        "colab": {
          "base_uri": "https://localhost:8080/"
        },
        "id": "kYZdatycTTxK",
        "outputId": "47341d59-08da-47b7-d888-ba12aa30535a"
      },
      "execution_count": 16,
      "outputs": [
        {
          "output_type": "execute_result",
          "data": {
            "text/plain": [
              "torch.float32"
            ]
          },
          "metadata": {},
          "execution_count": 16
        }
      ]
    },
    {
      "cell_type": "code",
      "source": [
        "range_tensor = torch.arange(start=0, end=1000, step=77)\n",
        "range_tensor"
      ],
      "metadata": {
        "colab": {
          "base_uri": "https://localhost:8080/"
        },
        "id": "lcHJM5FTTTtv",
        "outputId": "3a7cb886-f224-4262-e5ef-9830fe89de0d"
      },
      "execution_count": 17,
      "outputs": [
        {
          "output_type": "execute_result",
          "data": {
            "text/plain": [
              "tensor([  0,  77, 154, 231, 308, 385, 462, 539, 616, 693, 770, 847, 924])"
            ]
          },
          "metadata": {},
          "execution_count": 17
        }
      ]
    },
    {
      "cell_type": "code",
      "source": [
        "range_tensor = torch.arange(start=0, end=11, step=0.5)\n",
        "range_tensor"
      ],
      "metadata": {
        "colab": {
          "base_uri": "https://localhost:8080/"
        },
        "id": "KG7wtjVOTTqn",
        "outputId": "bc3f2c7e-0f1f-4939-ecfa-9e19ff5da265"
      },
      "execution_count": 18,
      "outputs": [
        {
          "output_type": "execute_result",
          "data": {
            "text/plain": [
              "tensor([ 0.0000,  0.5000,  1.0000,  1.5000,  2.0000,  2.5000,  3.0000,  3.5000,\n",
              "         4.0000,  4.5000,  5.0000,  5.5000,  6.0000,  6.5000,  7.0000,  7.5000,\n",
              "         8.0000,  8.5000,  9.0000,  9.5000, 10.0000, 10.5000])"
            ]
          },
          "metadata": {},
          "execution_count": 18
        }
      ]
    },
    {
      "cell_type": "code",
      "source": [
        "# tesnor types by default tensor type is float32\n",
        "range_tensor.dtype"
      ],
      "metadata": {
        "colab": {
          "base_uri": "https://localhost:8080/"
        },
        "id": "jcQP1edMTTnd",
        "outputId": "62a58c53-49f2-4872-8fbf-ed02a7bedad9"
      },
      "execution_count": 19,
      "outputs": [
        {
          "output_type": "execute_result",
          "data": {
            "text/plain": [
              "torch.float32"
            ]
          },
          "metadata": {},
          "execution_count": 19
        }
      ]
    },
    {
      "cell_type": "code",
      "source": [
        "float_32_tensor = torch.tensor([3.0,5.0,6.0],\n",
        "                               dtype=torch.float16,\n",
        "                               device = \"cuda\",\n",
        "                               requires_grad=True)\n",
        "float_32_tensor.shape, float_32_tensor.dtype, float_32_tensor.device"
      ],
      "metadata": {
        "colab": {
          "base_uri": "https://localhost:8080/"
        },
        "id": "RL_T3tP0TTj5",
        "outputId": "b185636d-c732-46c8-cbeb-fdc9f88ff02f"
      },
      "execution_count": 20,
      "outputs": [
        {
          "output_type": "execute_result",
          "data": {
            "text/plain": [
              "(torch.Size([3]), torch.float16, device(type='cuda', index=0))"
            ]
          },
          "metadata": {},
          "execution_count": 20
        }
      ]
    },
    {
      "cell_type": "code",
      "source": [
        "# Default datatype for tensors is float32\n",
        "float_32_tensor = torch.tensor([3.0, 6.0, 9.0],\n",
        "                               dtype=None, # defaults to None, which is torch.float32 or whatever datatype is passed\n",
        "                               device=None, # defaults to None, which uses the default tensor type\n",
        "                               requires_grad=False) # if True, operations performed on the tensor are recorded\n",
        "\n",
        "float_32_tensor.shape, float_32_tensor.dtype, float_32_tensor.device"
      ],
      "metadata": {
        "colab": {
          "base_uri": "https://localhost:8080/"
        },
        "id": "jXf1t94qVBo_",
        "outputId": "f1504fdb-05bf-4fce-b8e9-2ce0c90e9436"
      },
      "execution_count": 21,
      "outputs": [
        {
          "output_type": "execute_result",
          "data": {
            "text/plain": [
              "(torch.Size([3]), torch.float32, device(type='cpu'))"
            ]
          },
          "metadata": {},
          "execution_count": 21
        }
      ]
    },
    {
      "cell_type": "code",
      "source": [
        "# torch.cuda.is_available()\n",
        "!nvidia-smi\n",
        "torch.cuda.is_available()\n",
        "device = \"cuda\" if torch.cuda.is_available() else \"cpu\"\n",
        "print(device)"
      ],
      "metadata": {
        "colab": {
          "base_uri": "https://localhost:8080/"
        },
        "id": "e9tz4R7ATYk2",
        "outputId": "1b58179e-ffe8-421b-80c7-643111646d22"
      },
      "execution_count": 22,
      "outputs": [
        {
          "output_type": "stream",
          "name": "stdout",
          "text": [
            "Sun Jul 13 02:47:50 2025       \n",
            "+-----------------------------------------------------------------------------------------+\n",
            "| NVIDIA-SMI 550.54.15              Driver Version: 550.54.15      CUDA Version: 12.4     |\n",
            "|-----------------------------------------+------------------------+----------------------+\n",
            "| GPU  Name                 Persistence-M | Bus-Id          Disp.A | Volatile Uncorr. ECC |\n",
            "| Fan  Temp   Perf          Pwr:Usage/Cap |           Memory-Usage | GPU-Util  Compute M. |\n",
            "|                                         |                        |               MIG M. |\n",
            "|=========================================+========================+======================|\n",
            "|   0  Tesla T4                       Off |   00000000:00:04.0 Off |                    0 |\n",
            "| N/A   57C    P0             28W /   70W |     104MiB /  15360MiB |      2%      Default |\n",
            "|                                         |                        |                  N/A |\n",
            "+-----------------------------------------+------------------------+----------------------+\n",
            "                                                                                         \n",
            "+-----------------------------------------------------------------------------------------+\n",
            "| Processes:                                                                              |\n",
            "|  GPU   GI   CI        PID   Type   Process name                              GPU Memory |\n",
            "|        ID   ID                                                               Usage      |\n",
            "|=========================================================================================|\n",
            "+-----------------------------------------------------------------------------------------+\n",
            "cuda\n"
          ]
        }
      ]
    },
    {
      "cell_type": "code",
      "source": [
        "zero_tensor = torch.zeros(size = (10,3,4))\n",
        "zero_tensor\n",
        "# First dimension has ten elements\n",
        "# each element is an 3 * 4 Matrix"
      ],
      "metadata": {
        "colab": {
          "base_uri": "https://localhost:8080/"
        },
        "collapsed": true,
        "id": "tWI0ASWKXWYm",
        "outputId": "761b94af-f233-4e3a-fba8-d9769f516333"
      },
      "execution_count": 23,
      "outputs": [
        {
          "output_type": "execute_result",
          "data": {
            "text/plain": [
              "tensor([[[0., 0., 0., 0.],\n",
              "         [0., 0., 0., 0.],\n",
              "         [0., 0., 0., 0.]],\n",
              "\n",
              "        [[0., 0., 0., 0.],\n",
              "         [0., 0., 0., 0.],\n",
              "         [0., 0., 0., 0.]],\n",
              "\n",
              "        [[0., 0., 0., 0.],\n",
              "         [0., 0., 0., 0.],\n",
              "         [0., 0., 0., 0.]],\n",
              "\n",
              "        [[0., 0., 0., 0.],\n",
              "         [0., 0., 0., 0.],\n",
              "         [0., 0., 0., 0.]],\n",
              "\n",
              "        [[0., 0., 0., 0.],\n",
              "         [0., 0., 0., 0.],\n",
              "         [0., 0., 0., 0.]],\n",
              "\n",
              "        [[0., 0., 0., 0.],\n",
              "         [0., 0., 0., 0.],\n",
              "         [0., 0., 0., 0.]],\n",
              "\n",
              "        [[0., 0., 0., 0.],\n",
              "         [0., 0., 0., 0.],\n",
              "         [0., 0., 0., 0.]],\n",
              "\n",
              "        [[0., 0., 0., 0.],\n",
              "         [0., 0., 0., 0.],\n",
              "         [0., 0., 0., 0.]],\n",
              "\n",
              "        [[0., 0., 0., 0.],\n",
              "         [0., 0., 0., 0.],\n",
              "         [0., 0., 0., 0.]],\n",
              "\n",
              "        [[0., 0., 0., 0.],\n",
              "         [0., 0., 0., 0.],\n",
              "         [0., 0., 0., 0.]]])"
            ]
          },
          "metadata": {},
          "execution_count": 23
        }
      ]
    },
    {
      "cell_type": "code",
      "source": [
        "ones_tensor = torch.ones(size= (10,3,4))\n",
        "ones_tensor"
      ],
      "metadata": {
        "colab": {
          "base_uri": "https://localhost:8080/"
        },
        "collapsed": true,
        "id": "3fxySGabYRsQ",
        "outputId": "7ba55a51-240c-4f87-8d66-1818f2f19465"
      },
      "execution_count": 24,
      "outputs": [
        {
          "output_type": "execute_result",
          "data": {
            "text/plain": [
              "tensor([[[1., 1., 1., 1.],\n",
              "         [1., 1., 1., 1.],\n",
              "         [1., 1., 1., 1.]],\n",
              "\n",
              "        [[1., 1., 1., 1.],\n",
              "         [1., 1., 1., 1.],\n",
              "         [1., 1., 1., 1.]],\n",
              "\n",
              "        [[1., 1., 1., 1.],\n",
              "         [1., 1., 1., 1.],\n",
              "         [1., 1., 1., 1.]],\n",
              "\n",
              "        [[1., 1., 1., 1.],\n",
              "         [1., 1., 1., 1.],\n",
              "         [1., 1., 1., 1.]],\n",
              "\n",
              "        [[1., 1., 1., 1.],\n",
              "         [1., 1., 1., 1.],\n",
              "         [1., 1., 1., 1.]],\n",
              "\n",
              "        [[1., 1., 1., 1.],\n",
              "         [1., 1., 1., 1.],\n",
              "         [1., 1., 1., 1.]],\n",
              "\n",
              "        [[1., 1., 1., 1.],\n",
              "         [1., 1., 1., 1.],\n",
              "         [1., 1., 1., 1.]],\n",
              "\n",
              "        [[1., 1., 1., 1.],\n",
              "         [1., 1., 1., 1.],\n",
              "         [1., 1., 1., 1.]],\n",
              "\n",
              "        [[1., 1., 1., 1.],\n",
              "         [1., 1., 1., 1.],\n",
              "         [1., 1., 1., 1.]],\n",
              "\n",
              "        [[1., 1., 1., 1.],\n",
              "         [1., 1., 1., 1.],\n",
              "         [1., 1., 1., 1.]]])"
            ]
          },
          "metadata": {},
          "execution_count": 24
        }
      ]
    },
    {
      "cell_type": "code",
      "source": [
        "random_tensor = torch.rand(size = (10,3,4))\n",
        "random_tensor"
      ],
      "metadata": {
        "colab": {
          "base_uri": "https://localhost:8080/"
        },
        "collapsed": true,
        "id": "DsK-i-CLYaky",
        "outputId": "e0c5eb08-41de-475f-c32e-6e1d62ed0cd5"
      },
      "execution_count": 25,
      "outputs": [
        {
          "output_type": "execute_result",
          "data": {
            "text/plain": [
              "tensor([[[0.5151, 0.5344, 0.8901, 0.7217],\n",
              "         [0.0404, 0.2564, 0.4017, 0.6327],\n",
              "         [0.1264, 0.5116, 0.2104, 0.7844]],\n",
              "\n",
              "        [[0.5719, 0.7780, 0.2958, 0.4816],\n",
              "         [0.9942, 0.6179, 0.7441, 0.5448],\n",
              "         [0.1211, 0.8566, 0.8610, 0.6453]],\n",
              "\n",
              "        [[0.0824, 0.2841, 0.4838, 0.7480],\n",
              "         [0.7902, 0.3076, 0.7095, 0.1941],\n",
              "         [0.1656, 0.6830, 0.0611, 0.4010]],\n",
              "\n",
              "        [[0.0436, 0.0457, 0.0417, 0.3272],\n",
              "         [0.7930, 0.1632, 0.8661, 0.6238],\n",
              "         [0.4133, 0.0768, 0.6893, 0.7394]],\n",
              "\n",
              "        [[0.4881, 0.4635, 0.9430, 0.2086],\n",
              "         [0.7912, 0.3872, 0.8790, 0.1512],\n",
              "         [0.0579, 0.9943, 0.6181, 0.0505]],\n",
              "\n",
              "        [[0.2691, 0.9782, 0.5451, 0.8362],\n",
              "         [0.1591, 0.1695, 0.8130, 0.6426],\n",
              "         [0.3649, 0.9468, 0.7881, 0.8864]],\n",
              "\n",
              "        [[0.0171, 0.6993, 0.0567, 0.2261],\n",
              "         [0.0225, 0.0640, 0.9453, 0.5887],\n",
              "         [0.1512, 0.0677, 0.2798, 0.0914]],\n",
              "\n",
              "        [[0.2937, 0.7146, 0.4207, 0.9048],\n",
              "         [0.0811, 0.7682, 0.2411, 0.4152],\n",
              "         [0.4059, 0.8211, 0.6301, 0.5404]],\n",
              "\n",
              "        [[0.8382, 0.6695, 0.9517, 0.9342],\n",
              "         [0.9254, 0.4589, 0.9907, 0.3787],\n",
              "         [0.0113, 0.8610, 0.0456, 0.7321]],\n",
              "\n",
              "        [[0.8283, 0.1151, 0.4549, 0.5897],\n",
              "         [0.9499, 0.2509, 0.1870, 0.4178],\n",
              "         [0.8337, 0.9185, 0.3640, 0.5912]]])"
            ]
          },
          "metadata": {},
          "execution_count": 25
        }
      ]
    },
    {
      "cell_type": "code",
      "source": [
        "range_tensor = torch.arange(0, 60, 0.5).view(10,3,4)\n",
        "range_tensor"
      ],
      "metadata": {
        "colab": {
          "base_uri": "https://localhost:8080/"
        },
        "id": "IJuM4C1VYlnE",
        "outputId": "292148f0-6c2d-4fbd-d3e8-ccecaf044e08"
      },
      "execution_count": 26,
      "outputs": [
        {
          "output_type": "execute_result",
          "data": {
            "text/plain": [
              "tensor([[[ 0.0000,  0.5000,  1.0000,  1.5000],\n",
              "         [ 2.0000,  2.5000,  3.0000,  3.5000],\n",
              "         [ 4.0000,  4.5000,  5.0000,  5.5000]],\n",
              "\n",
              "        [[ 6.0000,  6.5000,  7.0000,  7.5000],\n",
              "         [ 8.0000,  8.5000,  9.0000,  9.5000],\n",
              "         [10.0000, 10.5000, 11.0000, 11.5000]],\n",
              "\n",
              "        [[12.0000, 12.5000, 13.0000, 13.5000],\n",
              "         [14.0000, 14.5000, 15.0000, 15.5000],\n",
              "         [16.0000, 16.5000, 17.0000, 17.5000]],\n",
              "\n",
              "        [[18.0000, 18.5000, 19.0000, 19.5000],\n",
              "         [20.0000, 20.5000, 21.0000, 21.5000],\n",
              "         [22.0000, 22.5000, 23.0000, 23.5000]],\n",
              "\n",
              "        [[24.0000, 24.5000, 25.0000, 25.5000],\n",
              "         [26.0000, 26.5000, 27.0000, 27.5000],\n",
              "         [28.0000, 28.5000, 29.0000, 29.5000]],\n",
              "\n",
              "        [[30.0000, 30.5000, 31.0000, 31.5000],\n",
              "         [32.0000, 32.5000, 33.0000, 33.5000],\n",
              "         [34.0000, 34.5000, 35.0000, 35.5000]],\n",
              "\n",
              "        [[36.0000, 36.5000, 37.0000, 37.5000],\n",
              "         [38.0000, 38.5000, 39.0000, 39.5000],\n",
              "         [40.0000, 40.5000, 41.0000, 41.5000]],\n",
              "\n",
              "        [[42.0000, 42.5000, 43.0000, 43.5000],\n",
              "         [44.0000, 44.5000, 45.0000, 45.5000],\n",
              "         [46.0000, 46.5000, 47.0000, 47.5000]],\n",
              "\n",
              "        [[48.0000, 48.5000, 49.0000, 49.5000],\n",
              "         [50.0000, 50.5000, 51.0000, 51.5000],\n",
              "         [52.0000, 52.5000, 53.0000, 53.5000]],\n",
              "\n",
              "        [[54.0000, 54.5000, 55.0000, 55.5000],\n",
              "         [56.0000, 56.5000, 57.0000, 57.5000],\n",
              "         [58.0000, 58.5000, 59.0000, 59.5000]]])"
            ]
          },
          "metadata": {},
          "execution_count": 26
        }
      ]
    },
    {
      "cell_type": "markdown",
      "source": [
        "Matrix multiplication cond is number of cols in 1st matrix = number of rows in second matrix\n",
        "\n",
        "3 * 2     2  *. 2\n",
        "    -     -\n",
        "\n",
        "resultant matrix is 3 * 2"
      ],
      "metadata": {
        "id": "B3B-36Gvqniv"
      }
    },
    {
      "cell_type": "code",
      "source": [
        "TENSOR_A = torch.rand(size = (3,2))"
      ],
      "metadata": {
        "id": "bxbz-pxorYQV"
      },
      "execution_count": 33,
      "outputs": []
    },
    {
      "cell_type": "code",
      "source": [],
      "metadata": {
        "id": "A6dMOhD2rpa0"
      },
      "execution_count": null,
      "outputs": []
    },
    {
      "cell_type": "code",
      "source": [],
      "metadata": {
        "id": "rmYWBmN_rpvO"
      },
      "execution_count": null,
      "outputs": []
    },
    {
      "cell_type": "code",
      "source": [
        "TENSOR_B = torch.rand(size = (2,2))\n",
        "TENSOR_B"
      ],
      "metadata": {
        "colab": {
          "base_uri": "https://localhost:8080/"
        },
        "id": "lVZ4i4Zurg3_",
        "outputId": "d2077ebe-a451-4bbe-d1b4-e4216553604a"
      },
      "execution_count": 32,
      "outputs": [
        {
          "output_type": "execute_result",
          "data": {
            "text/plain": [
              "tensor([[0.5212, 0.0738],\n",
              "        [0.9320, 0.1721]])"
            ]
          },
          "metadata": {},
          "execution_count": 32
        }
      ]
    },
    {
      "cell_type": "markdown",
      "source": [],
      "metadata": {
        "id": "6pVA2-TsrgTP"
      }
    },
    {
      "cell_type": "code",
      "source": [
        "RES_TENSOR = torch.matmul(TENSOR_A, TENSOR_B)\n",
        "RES_TENSOR"
      ],
      "metadata": {
        "colab": {
          "base_uri": "https://localhost:8080/"
        },
        "id": "gYahBj9_r1XD",
        "outputId": "a4888615-4a07-4d4f-fb2e-ce9da44395e2"
      },
      "execution_count": 34,
      "outputs": [
        {
          "output_type": "execute_result",
          "data": {
            "text/plain": [
              "tensor([[0.9391, 0.1613],\n",
              "        [0.8785, 0.1411],\n",
              "        [0.8832, 0.1578]])"
            ]
          },
          "metadata": {},
          "execution_count": 34
        }
      ]
    },
    {
      "cell_type": "code",
      "source": [
        "TENSOR_B = torch.rand(size = (3,2))\n",
        "TENSOR_B\n",
        "# transpose matrix\n",
        "TENSOR_B.T"
      ],
      "metadata": {
        "colab": {
          "base_uri": "https://localhost:8080/"
        },
        "id": "jOdjJ9YYsCXh",
        "outputId": "d00df2ee-8856-4685-feb8-e78968f614e3"
      },
      "execution_count": 37,
      "outputs": [
        {
          "output_type": "execute_result",
          "data": {
            "text/plain": [
              "tensor([[0.0207, 0.2994, 0.8189],\n",
              "        [0.3299, 0.9324, 0.1468]])"
            ]
          },
          "metadata": {},
          "execution_count": 37
        }
      ]
    },
    {
      "cell_type": "code",
      "source": [],
      "metadata": {
        "id": "K9X99T_esPuj"
      },
      "execution_count": null,
      "outputs": []
    }
  ]
}