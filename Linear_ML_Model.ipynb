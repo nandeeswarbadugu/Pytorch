{
  "nbformat": 4,
  "nbformat_minor": 0,
  "metadata": {
    "colab": {
      "provenance": [],
      "gpuType": "T4",
      "authorship_tag": "ABX9TyPvi8VkcbxiukCIKvtHwF8f",
      "include_colab_link": true
    },
    "kernelspec": {
      "name": "python3",
      "display_name": "Python 3"
    },
    "language_info": {
      "name": "python"
    },
    "accelerator": "GPU"
  },
  "cells": [
    {
      "cell_type": "markdown",
      "metadata": {
        "id": "view-in-github",
        "colab_type": "text"
      },
      "source": [
        "<a href=\"https://colab.research.google.com/github/nandeeswarbadugu/Pytorch/blob/main/Linear_ML_Model.ipynb\" target=\"_parent\"><img src=\"https://colab.research.google.com/assets/colab-badge.svg\" alt=\"Open In Colab\"/></a>"
      ]
    },
    {
      "cell_type": "markdown",
      "source": [
        "Imports"
      ],
      "metadata": {
        "id": "FyXEuK2zVPZG"
      }
    },
    {
      "cell_type": "code",
      "execution_count": 2,
      "metadata": {
        "id": "I1BpNUlPU5Oe"
      },
      "outputs": [],
      "source": [
        "import torch\n",
        "from torch import nn\n",
        "import matplotlib.pyplot as plt"
      ]
    },
    {
      "cell_type": "markdown",
      "source": [
        "Check the device type\n"
      ],
      "metadata": {
        "id": "Ifz05oz8VScU"
      }
    },
    {
      "cell_type": "code",
      "source": [
        "device = \"cuda\" if torch.cuda.is_available() else \"cpu\"\n",
        "print(f\"Device is : {device}\")"
      ],
      "metadata": {
        "colab": {
          "base_uri": "https://localhost:8080/"
        },
        "id": "i-cz-LiWVU_c",
        "outputId": "4b16f3ac-b9b6-48d3-84ed-a9bff8cb85ae"
      },
      "execution_count": 3,
      "outputs": [
        {
          "output_type": "stream",
          "name": "stdout",
          "text": [
            "Device is : cuda\n"
          ]
        }
      ]
    },
    {
      "cell_type": "code",
      "source": [
        "weights = 0.3\n",
        "bias = 0.9\n",
        "\n",
        "# Creating Data Set's of length 200\n",
        "start = 0\n",
        "end = 2\n",
        "step = 0.02\n",
        "X = torch.arange(start,end,step).unsqueeze(dim = 1)\n",
        "y = weights * X + bias"
      ],
      "metadata": {
        "id": "VC_PLq9vVrBN"
      },
      "execution_count": 4,
      "outputs": []
    },
    {
      "cell_type": "markdown",
      "source": [
        "Split the data and plot it 80 to 20 ratio for training and evaluating model"
      ],
      "metadata": {
        "id": "R9zWX6bxWWQj"
      }
    },
    {
      "cell_type": "code",
      "source": [
        "split_percent = int (0.8 * len(X))\n",
        "split_percent\n",
        "train_X, train_y = X[:split_percent], y[:split_percent]\n",
        "test_X, test_y = X[split_percent:], y[split_percent:]\n",
        "\n",
        "len(train_X), len(train_y), len(test_X), len(test_y)"
      ],
      "metadata": {
        "colab": {
          "base_uri": "https://localhost:8080/"
        },
        "id": "vN8MHNWAWgOb",
        "outputId": "302e96ea-c1b6-42ff-a6e0-cc31d9527970"
      },
      "execution_count": 5,
      "outputs": [
        {
          "output_type": "execute_result",
          "data": {
            "text/plain": [
              "(80, 80, 20, 20)"
            ]
          },
          "metadata": {},
          "execution_count": 5
        }
      ]
    },
    {
      "cell_type": "markdown",
      "source": [
        "Plot the data to visualize it"
      ],
      "metadata": {
        "id": "TXvpeb_CX8Nv"
      }
    },
    {
      "cell_type": "code",
      "source": [
        "def plot_data(train_data = train_X,\n",
        "              train_labels = train_y,\n",
        "              test_data = test_X,\n",
        "              test_labels = test_y,\n",
        "              predictions = None):\n",
        "\n",
        "  plt.figure(figsize= (10,7))\n",
        "\n",
        "  plt.scatter(train_data, train_labels, c = \"b\", s = 4, label = \"Training Data\")\n",
        "\n",
        "  plt.scatter(test_data, test_labels, c = \"g\", s = 4, label = \"Testing Data\")\n"
      ],
      "metadata": {
        "id": "8EP1N9h-YBWq"
      },
      "execution_count": 6,
      "outputs": []
    },
    {
      "cell_type": "code",
      "source": [
        "plot_data()"
      ],
      "metadata": {
        "colab": {
          "base_uri": "https://localhost:8080/",
          "height": 599
        },
        "id": "ZhvlXHnkYlzx",
        "outputId": "0d8cadc3-274a-4161-e38f-92984692b36d"
      },
      "execution_count": 7,
      "outputs": [
        {
          "output_type": "display_data",
          "data": {
            "text/plain": [
              "<Figure size 1000x700 with 1 Axes>"
            ],
            "image/png": "[encoded data removed]"
          },
          "metadata": {}
        }
      ]
    },
    {
      "cell_type": "markdown",
      "source": [
        "Plot the predictions --\n",
        "Build model before you make predictions pick loss fn and optimizer then find preds\n"
      ],
      "metadata": {
        "id": "btI9yCNUeFis"
      }
    },
    {
      "cell_type": "code",
      "source": [
        "class LinearRegressionModel(nn.Module):\n",
        "  def __init__(self):\n",
        "    super().__init__()\n",
        "    self.weights = nn.Parameter(torch.randn(1, dtype= torch.float),requires_grad=True)\n",
        "    self.bias = nn.Parameter(torch.randn(1, dtype= torch.float),requires_grad=True)\n",
        "    print(f\"random weights and bias from model: {self.weights} {self.bias}\")\n",
        "\n",
        "  def forward(self, X: torch.Tensor) -> torch.Tensor:\n",
        "    return self.weights * X + self.bias"
      ],
      "metadata": {
        "id": "bumvbqHbePK2"
      },
      "execution_count": 20,
      "outputs": []
    },
    {
      "cell_type": "code",
      "source": [
        "# Check parameters of pytorch model\n",
        "\n",
        "torch.manual_seed(42)\n",
        "\n",
        "model_0 = LinearRegressionModel()\n",
        "\n",
        "list(model_0.parameters())\n",
        "model_0.state_dict()"
      ],
      "metadata": {
        "colab": {
          "base_uri": "https://localhost:8080/"
        },
        "id": "mT8_GJd3wmqR",
        "outputId": "80a76f37-c448-417f-b146-18fdccaeeb04"
      },
      "execution_count": 22,
      "outputs": [
        {
          "output_type": "stream",
          "name": "stdout",
          "text": [
            "random weights and bias from model: Parameter containing:\n",
            "tensor([0.3367], requires_grad=True) Parameter containing:\n",
            "tensor([0.1288], requires_grad=True)\n"
          ]
        },
        {
          "output_type": "execute_result",
          "data": {
            "text/plain": [
              "OrderedDict([('weights', tensor([0.3367])), ('bias', tensor([0.1288]))])"
            ]
          },
          "metadata": {},
          "execution_count": 22
        }
      ]
    }
  ]
}