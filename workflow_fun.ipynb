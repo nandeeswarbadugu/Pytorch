{
  "nbformat": 4,
  "nbformat_minor": 0,
  "metadata": {
    "colab": {
      "provenance": [],
      "authorship_tag": "ABX9TyP9gZ6d4PFXfNVfh82GxY6D",
      "include_colab_link": true
    },
    "kernelspec": {
      "name": "python3",
      "display_name": "Python 3"
    },
    "language_info": {
      "name": "python"
    }
  },
  "cells": [
    {
      "cell_type": "markdown",
      "metadata": {
        "id": "view-in-github",
        "colab_type": "text"
      },
      "source": [
        "<a href=\"https://colab.research.google.com/github/nandeeswarbadugu/Pytorch/blob/main/workflow_fun.ipynb\" target=\"_parent\"><img src=\"https://colab.research.google.com/assets/colab-badge.svg\" alt=\"Open In Colab\"/></a>"
      ]
    },
    {
      "cell_type": "markdown",
      "source": [
        "Machine Learning is all about\n",
        "1. Create DataSets\n",
        "2. Pick or Build Model\n",
        "3. Evaluate Model\n"
      ],
      "metadata": {
        "id": "taQMAaUVLf2_"
      }
    },
    {
      "cell_type": "markdown",
      "source": [],
      "metadata": {
        "id": "3x4oorN-Le3M"
      }
    },
    {
      "cell_type": "markdown",
      "source": [
        "What we're going to cover\n",
        "In this module we're going to cover a standard PyTorch workflow (it can be chopped and changed as necessary but it covers the main outline of steps).\n",
        "\n",
        "a pytorch workflow flowchat\n"
      ],
      "metadata": {
        "id": "OtrJApBq38oj"
      }
    },
    {
      "cell_type": "code",
      "source": [
        "# Specifically, we're going to cover:\n",
        "\n",
        "# Topic\tContents\n",
        "# 1. Getting data ready\tData can be almost anything but to get started we're going to create a simple straight line\n",
        "# 2. Building a model\tHere we'll create a model to learn patterns in the data, we'll also choose a loss function, optimizer and build a training loop.\n",
        "# 3. Fitting the model to data (training)\tWe've got data and a model, now let's let the model (try to) find patterns in the (training) data.\n",
        "# 4. Making predictions and evaluating a model (inference)\tOur model's found patterns in the data, let's compare its findings to the actual (testing) data.\n",
        "# 5. Saving and loading a model\tYou may want to use your model elsewhere, or come back to it later, here we'll cover that.\n",
        "# 6. Putting it all together\tLet's take all of the above and combine it.\n"
      ],
      "metadata": {
        "id": "w2gFYHiy4lU0"
      },
      "execution_count": 1,
      "outputs": []
    },
    {
      "cell_type": "code",
      "execution_count": 2,
      "metadata": {
        "id": "ze2rmrOyLUMp",
        "colab": {
          "base_uri": "https://localhost:8080/",
          "height": 35
        },
        "outputId": "52e2449d-5ce3-497c-bccf-76e283249a1a"
      },
      "outputs": [
        {
          "output_type": "execute_result",
          "data": {
            "text/plain": [
              "'2.6.0+cu124'"
            ],
            "application/vnd.google.colaboratory.intrinsic+json": {
              "type": "string"
            }
          },
          "metadata": {},
          "execution_count": 2
        }
      ],
      "source": [
        "import torch\n",
        "from torch import nn\n",
        "import matplotlib.pyplot as plt\n",
        "\n",
        "torch.__version__"
      ]
    },
    {
      "cell_type": "markdown",
      "source": [
        "1. Data (preparing and loading)\n"
      ],
      "metadata": {
        "id": "nvnvI1QS4hyV"
      }
    },
    {
      "cell_type": "code",
      "source": [
        "weight = 0.7\n",
        "bias = 0.2\n",
        "\n",
        "# Create Data\n",
        "start  = 0\n",
        "end = 1\n",
        "step = 0.02\n",
        "X = torch.arange(start, end, step).unsqueeze(dim = 1)\n",
        "y = weight * X + bias\n",
        "X[:10], y[:10]"
      ],
      "metadata": {
        "colab": {
          "base_uri": "https://localhost:8080/"
        },
        "id": "D4iMFSob4gjl",
        "outputId": "ba907b1c-4839-4028-a389-502bde9f40c5"
      },
      "execution_count": 3,
      "outputs": [
        {
          "output_type": "execute_result",
          "data": {
            "text/plain": [
              "(tensor([[0.0000],\n",
              "         [0.0200],\n",
              "         [0.0400],\n",
              "         [0.0600],\n",
              "         [0.0800],\n",
              "         [0.1000],\n",
              "         [0.1200],\n",
              "         [0.1400],\n",
              "         [0.1600],\n",
              "         [0.1800]]),\n",
              " tensor([[0.2000],\n",
              "         [0.2140],\n",
              "         [0.2280],\n",
              "         [0.2420],\n",
              "         [0.2560],\n",
              "         [0.2700],\n",
              "         [0.2840],\n",
              "         [0.2980],\n",
              "         [0.3120],\n",
              "         [0.3260]]))"
            ]
          },
          "metadata": {},
          "execution_count": 3
        }
      ]
    },
    {
      "cell_type": "markdown",
      "source": [
        "Now we're going to move towards building a model that can learn the relationship between X (features) and y (labels).\n",
        "\n",
        "\n",
        "Split data into training and test sets\n",
        "\n",
        "we are not using validation test here\n",
        "\n"
      ],
      "metadata": {
        "id": "0IqPUKO65kAD"
      }
    },
    {
      "cell_type": "code",
      "source": [
        "split_percent = int(0.8 * len(X))\n",
        "X_train, y_train = X[:split_percent], y[:split_percent]\n",
        "X_test, y_test = X[split_percent:], y[split_percent:]\n",
        "\n",
        "len(X_train), len(y_train), len(X_test), len(y_test)"
      ],
      "metadata": {
        "colab": {
          "base_uri": "https://localhost:8080/"
        },
        "id": "vDyX2Ily52K6",
        "outputId": "dce86972-ed3b-49b6-f74b-4be0d7f2e3d3"
      },
      "execution_count": 4,
      "outputs": [
        {
          "output_type": "execute_result",
          "data": {
            "text/plain": [
              "(40, 40, 10, 10)"
            ]
          },
          "metadata": {},
          "execution_count": 4
        }
      ]
    },
    {
      "cell_type": "markdown",
      "source": [
        "Till now we only have data we are not using it for anything let's visualize it on"
      ],
      "metadata": {
        "id": "_4aWNlnK6fiK"
      }
    },
    {
      "cell_type": "code",
      "source": [
        "def plot_data(train_data = X_train,\n",
        "              train_labels = y_train,\n",
        "              test_data = X_test,\n",
        "              test_labels = y_test,\n",
        "              predictions = None):\n",
        "  plt.figure(figsize=(10,5))\n",
        "\n",
        "  plt.scatter(train_data, train_labels, c = \"b\", s = 4, label=\"Training data\")\n",
        "\n",
        "  plt.scatter(test_data, test_labels, c=\"g\", s=4, label=\"Testing data\")\n",
        "\n",
        "  if predictions is not None:\n",
        "    # Plot the predictions in red (predictions were made on the test data)\n",
        "    plt.scatter(test_data, predictions, c=\"r\", s=4, label=\"Predictions\")\n",
        "\n",
        "  # Show the legend\n",
        "  plt.legend(prop={\"size\": 14});\n",
        "\n",
        "plot_data()"
      ],
      "metadata": {
        "colab": {
          "base_uri": "https://localhost:8080/",
          "height": 445
        },
        "id": "ygIrt1Jz6ey_",
        "outputId": "87e4629e-ab97-47a3-d176-937a82de6cf6"
      },
      "execution_count": 5,
      "outputs": [
        {
          "output_type": "display_data",
          "data": {
            "text/plain": [
              "<Figure size 1000x500 with 1 Axes>"
            ],
            "image/png": "[encoded data removed]"
          },
          "metadata": {}
        }
      ]
    },
    {
      "cell_type": "markdown",
      "source": [
        "2. Earlier we had created Data & Plotted it to visualize Now we will build model but not train it"
      ],
      "metadata": {
        "id": "eLsBqmiu_F9-"
      }
    },
    {
      "cell_type": "code",
      "source": [
        "class LinearRegressionModel(nn.Module):\n",
        "  def __init__(self):\n",
        "      super().__init__()\n",
        "      self.weights = nn.Parameter(torch.randn(1, dtype = torch.float), requires_grad= True)\n",
        "      self.bias = nn.Parameter(torch.randn(1, dtype = torch.float), requires_grad = True)\n",
        "      print(f\"from model {self.weights}\")\n",
        "\n",
        "  def forward(self, X : torch.Tensor) -> torch.Tensor:\n",
        "    return self.weights * X + self.bias"
      ],
      "metadata": {
        "id": "mipRCADJ_FdF"
      },
      "execution_count": 6,
      "outputs": []
    },
    {
      "cell_type": "markdown",
      "source": [
        "We'll be using Python classes to create bits and pieces for building neural networks. If you're unfamiliar with Python class notation, I'd recommend reading Real Python's Object Orientating programming in Python 3 guide a few times."
      ],
      "metadata": {
        "id": "Ve8nwjadAzE4"
      }
    },
    {
      "cell_type": "code",
      "source": [
        "# Checking contents of pytorch model\n",
        "\n",
        "torch.manual_seed(100)\n",
        "\n",
        "model_0 = LinearRegressionModel()\n",
        "\n",
        "list(model_0.parameters())"
      ],
      "metadata": {
        "colab": {
          "base_uri": "https://localhost:8080/"
        },
        "id": "U1fLK6ZeSamh",
        "outputId": "8bbcf353-9214-4328-87b1-dd78f310f749"
      },
      "execution_count": 7,
      "outputs": [
        {
          "output_type": "stream",
          "name": "stdout",
          "text": [
            "from model Parameter containing:\n",
            "tensor([0.3607], requires_grad=True)\n"
          ]
        },
        {
          "output_type": "execute_result",
          "data": {
            "text/plain": [
              "[Parameter containing:\n",
              " tensor([0.3607], requires_grad=True),\n",
              " Parameter containing:\n",
              " tensor([-0.2859], requires_grad=True)]"
            ]
          },
          "metadata": {},
          "execution_count": 7
        }
      ]
    },
    {
      "cell_type": "markdown",
      "source": [
        "\n",
        "We can also get the state (what the model contains) of the model using .state_dict()."
      ],
      "metadata": {
        "id": "mGkHiVPETdK1"
      }
    },
    {
      "cell_type": "code",
      "source": [
        "\n",
        "# List named parameters\n",
        "model_0.state_dict()\n"
      ],
      "metadata": {
        "colab": {
          "base_uri": "https://localhost:8080/"
        },
        "id": "ltlaS63_TZD_",
        "outputId": "37ab84b6-b6d3-4488-b81a-44c7df09cac8"
      },
      "execution_count": 8,
      "outputs": [
        {
          "output_type": "execute_result",
          "data": {
            "text/plain": [
              "OrderedDict([('weights', tensor([0.3607])), ('bias', tensor([-0.2859]))])"
            ]
          },
          "metadata": {},
          "execution_count": 8
        }
      ]
    },
    {
      "cell_type": "markdown",
      "source": [
        "\n",
        "Making predictions using torch.inference_mode()"
      ],
      "metadata": {
        "id": "4x0hMjxvtCz-"
      }
    },
    {
      "cell_type": "code",
      "source": [
        "with torch.inference_mode():\n",
        "  y_preds = model_0(X_test)"
      ],
      "metadata": {
        "id": "xYqwHlb7tE3m"
      },
      "execution_count": 9,
      "outputs": []
    },
    {
      "cell_type": "code",
      "source": [
        "# Check the predictions\n",
        "print(f\"Number of testing samples: {len(X_test)}\")\n",
        "print(f\"Number of predictions made: {len(y_preds)}\")\n",
        "print(f\"Predicted values:\\n{y_preds}\")"
      ],
      "metadata": {
        "colab": {
          "base_uri": "https://localhost:8080/"
        },
        "id": "rMiwimqzty9_",
        "outputId": "879dbec4-b439-430a-a93b-a7eb42ea0a12"
      },
      "execution_count": 10,
      "outputs": [
        {
          "output_type": "stream",
          "name": "stdout",
          "text": [
            "Number of testing samples: 10\n",
            "Number of predictions made: 10\n",
            "Predicted values:\n",
            "tensor([[0.0026],\n",
            "        [0.0098],\n",
            "        [0.0170],\n",
            "        [0.0242],\n",
            "        [0.0315],\n",
            "        [0.0387],\n",
            "        [0.0459],\n",
            "        [0.0531],\n",
            "        [0.0603],\n",
            "        [0.0675]])\n"
          ]
        }
      ]
    },
    {
      "cell_type": "code",
      "source": [
        "plot_data(predictions=y_preds)\n",
        "# with torch.inference_mode():\n",
        "#   y_pred = model_0(X_train)\n",
        "#   # print(y_pred)\n",
        "# loss_fn = nn.L1Loss()\n",
        "#   # 2. Calculate the loss (how different are our models predictions to the ground truth)\n",
        "# # loss = loss_fn(y_pred, y_train)\n",
        "# # plot_data(predictions=y_pred)\n",
        "# print(len(y_pred))"
      ],
      "metadata": {
        "colab": {
          "base_uri": "https://localhost:8080/",
          "height": 445
        },
        "id": "lwz0aaW7t-qJ",
        "outputId": "40dfb133-cdc4-441c-aa11-dba8fb3e1859"
      },
      "execution_count": 11,
      "outputs": [
        {
          "output_type": "display_data",
          "data": {
            "text/plain": [
              "<Figure size 1000x500 with 1 Axes>"
            ],
            "image/png": "[encoded data removed]"
          },
          "metadata": {}
        }
      ]
    },
    {
      "cell_type": "markdown",
      "source": [
        "3. Train model\n",
        "Right now our model is making predictions using random parameters to make calculations, it's basically guessing (randomly).\n",
        "\n",
        "To fix that, we can update its internal parameters (I also refer to parameters as patterns), the weights and bias values we set randomly using nn.Parameter() and torch.randn() to be something that better represents the data.\n",
        "\n",
        "We could hard code this (since we know the default values weight=0.7 and bias=0.3) but where's the fun in that?\n",
        "\n",
        "Much of the time you won't know what the ideal parameters are for a model.\n",
        "\n",
        "Instead, it's much more fun to write code to see if the model can try and figure them out itself.\n",
        "\n",
        "Creating a loss function and optimizer in PyTorch\n",
        "For our model to update its parameters on its own, we'll need to add a few more things to our recipe.\n",
        "\n",
        "And that's a loss function as well as an optimizer."
      ],
      "metadata": {
        "id": "17q2uPb2wux2"
      }
    },
    {
      "cell_type": "code",
      "source": [
        "loss_fn = nn.L1Loss()\n",
        "\n",
        "# optimizer\n",
        "\n",
        "optimizer = torch.optim.SGD(params=model_0.parameters(),\n",
        "                            lr = 0.01) # learning rate (how much the optimizer should change parameters at each step, higher=more (less stable), lower=less (might take a long time))"
      ],
      "metadata": {
        "id": "H2qs3kqYzK6H"
      },
      "execution_count": 12,
      "outputs": []
    },
    {
      "cell_type": "code",
      "source": [
        "torch.manual_seed(42)\n",
        "\n",
        "epochs = 100\n",
        "\n",
        "train_loss_values = []\n",
        "test_loss_values = []\n",
        "epoch_count = []\n",
        "\n",
        "for epoch in range(epochs):\n",
        "  # Training\n",
        "\n",
        "  # Put model in training mode (this is the default state of a model)\n",
        "  model_0.train()\n",
        "\n",
        "  # 1. Forward pass on train data using the forward() method inside\n",
        "  y_pred = model_0(X_train)\n",
        "  # print(y_pred)\n",
        "\n",
        "  # 2. Calculate the loss (how different are our models predictions to the ground truth)\n",
        "  loss = loss_fn(y_pred, y_train)\n",
        "\n",
        "  # 3. Zero grad of the optimizer\n",
        "  optimizer.zero_grad()\n",
        "\n",
        "  # 4. Loss backwards\n",
        "  loss.backward()\n",
        "\n",
        "  # 5. Progress the optimizer\n",
        "  optimizer.step()\n",
        "\n",
        "\n",
        "  # Testing\n",
        "\n",
        "  # Put the model in evaluation mode\n",
        "  model_0.eval()\n",
        "\n",
        "  with torch.inference_mode():\n",
        "\n",
        "    test_pred = model_0(X_test)\n",
        "\n",
        "    test_loss = loss_fn(test_pred, y_test.type(torch.float))\n",
        "\n",
        "    if epoch %10 == 0:\n",
        "      epoch_count.append(epoch)\n",
        "      train_loss_values.append(loss.detach().numpy())\n",
        "      test_loss_values.append(test_loss.detach().numpy())\n",
        "      print(f\"Epoch: {epoch} | MAE Train Loss: {loss} | MAE Test Loss: {test_loss} \")\n",
        "\n",
        "\n",
        "\n"
      ],
      "metadata": {
        "colab": {
          "base_uri": "https://localhost:8080/"
        },
        "id": "U2UopE4a1iur",
        "outputId": "bcbb84f7-35d3-4d2c-9b30-c066c004f748"
      },
      "execution_count": 13,
      "outputs": [
        {
          "output_type": "stream",
          "name": "stdout",
          "text": [
            "Epoch: 0 | MAE Train Loss: 0.6182652711868286 | MAE Test Loss: 0.7744663953781128 \n",
            "Epoch: 10 | MAE Train Loss: 0.5030553936958313 | MAE Test Loss: 0.639756441116333 \n",
            "Epoch: 20 | MAE Train Loss: 0.3878454267978668 | MAE Test Loss: 0.5050464868545532 \n",
            "Epoch: 30 | MAE Train Loss: 0.27263545989990234 | MAE Test Loss: 0.3703365921974182 \n",
            "Epoch: 40 | MAE Train Loss: 0.15742547810077667 | MAE Test Loss: 0.23562665283679962 \n",
            "Epoch: 50 | MAE Train Loss: 0.04504556208848953 | MAE Test Loss: 0.10451464354991913 \n",
            "Epoch: 60 | MAE Train Loss: 0.023052919656038284 | MAE Test Loss: 0.05672663450241089 \n",
            "Epoch: 70 | MAE Train Loss: 0.01942858286201954 | MAE Test Loss: 0.04435061663389206 \n",
            "Epoch: 80 | MAE Train Loss: 0.015999123454093933 | MAE Test Loss: 0.036765046417713165 \n",
            "Epoch: 90 | MAE Train Loss: 0.012563762255012989 | MAE Test Loss: 0.028492575511336327 \n"
          ]
        }
      ]
    },
    {
      "cell_type": "code",
      "source": [
        "# Plot the bot the loss\n",
        "\n",
        "plt.plot(epoch_count, train_loss_values, label = \"Train Loss\")\n",
        "plt.plot(epoch_count, test_loss_values, label = \"Test Loss\")\n",
        "plt.title(\"Training and test Loss Curves\")\n",
        "plt.ylabel(\"Loss\")\n",
        "plt.xlabel(\"Epochs\")\n",
        "plt.legend()"
      ],
      "metadata": {
        "colab": {
          "base_uri": "https://localhost:8080/",
          "height": 489
        },
        "id": "O3aUp5IYFF_7",
        "outputId": "ee78f45c-f7b3-4c61-fb7a-598a27e7d4ba"
      },
      "execution_count": 14,
      "outputs": [
        {
          "output_type": "execute_result",
          "data": {
            "text/plain": [
              "<matplotlib.legend.Legend at 0x7a8c18d33f50>"
            ]
          },
          "metadata": {},
          "execution_count": 14
        },
        {
          "output_type": "display_data",
          "data": {
            "text/plain": [
              "<Figure size 640x480 with 1 Axes>"
            ],
            "image/png": "[encoded data removed]"
          },
          "metadata": {}
        }
      ]
    },
    {
      "cell_type": "markdown",
      "source": [
        "Nice! The loss curves show the loss going down over time. Remember, loss is the measure of how wrong your model is, so the lower the better.\n",
        "\n",
        "But why did the loss go down?\n",
        "\n",
        "Well, thanks to our loss function and optimizer, the model's internal parameters (weights and bias) were updated to better reflect the underlying patterns in the data.\n",
        "\n",
        "Let's inspect our model's .state_dict() to see how close our model gets to the original values we set for weights and bias."
      ],
      "metadata": {
        "id": "vyu4XjL2GOIc"
      }
    },
    {
      "cell_type": "code",
      "source": [
        "# Find our model's learned parameters\n",
        "print(\"The model learned the following values for weights and bias:\")\n",
        "print(model_0.state_dict())\n",
        "print(\"\\nAnd the original values for weights and bias are:\")\n",
        "print(f\"weights: {weight}, bias: {bias}\")"
      ],
      "metadata": {
        "colab": {
          "base_uri": "https://localhost:8080/"
        },
        "id": "6uHDyvhoGSBI",
        "outputId": "30fcd94a-4b57-497a-e312-6e11c8e4f779"
      },
      "execution_count": 15,
      "outputs": [
        {
          "output_type": "stream",
          "name": "stdout",
          "text": [
            "The model learned the following values for weights and bias:\n",
            "OrderedDict([('weights', tensor([0.6546])), ('bias', tensor([0.2191]))])\n",
            "\n",
            "And the original values for weights and bias are:\n",
            "weights: 0.7, bias: 0.2\n"
          ]
        }
      ]
    },
    {
      "cell_type": "markdown",
      "source": [
        "\n",
        "**4. Making predictions with a trained PyTorch model (inference)**\n",
        "\n",
        "Once you've trained a model, you'll likely want to make predictions with it.\n",
        "\n",
        "We've already seen a glimpse of this in the training and testing code above, the steps to do it outside of the training/testing loop are similar.\n",
        "\n",
        "There are three things to remember when making predictions (also called performing inference) with a PyTorch model:\n",
        "\n",
        "1. Set the model in evaluation mode (model.eval()).\n",
        "2. Make the predictions using the inference mode context manager (with torch.inference_mode(): ...).\n",
        "3. All predictions should be made with objects on the same device (e.g. data and model on GPU only or data and model on CPU only).\n",
        "\n",
        "\n",
        "\n",
        "The first two items make sure all helpful calculations and settings PyTorch uses behind the scenes during training but aren't necessary for inference are turned off (this results in faster computation). And the third ensures that you won't run into cross-device errors."
      ],
      "metadata": {
        "id": "EhliFYzcSaNn"
      }
    },
    {
      "cell_type": "code",
      "source": [
        "model_0.eval()\n",
        "\n",
        "device = \"cuda\" if torch.cuda.is_available() else \"cpu\"\n",
        "with torch.inference_mode():\n",
        "  model_0.to(device)\n",
        "  X_test = X_test.to(device)\n",
        "  y_preds = model_0(X_test)\n",
        "\n",
        "\n",
        "y_preds\n",
        "\n",
        "# torch.cuda.is_available()"
      ],
      "metadata": {
        "colab": {
          "base_uri": "https://localhost:8080/"
        },
        "id": "vYK0WwrkSXbB",
        "outputId": "e7b0aea0-4740-4d5e-e224-cffaedbc0048"
      },
      "execution_count": 16,
      "outputs": [
        {
          "output_type": "execute_result",
          "data": {
            "text/plain": [
              "tensor([[0.7428],\n",
              "        [0.7559],\n",
              "        [0.7689],\n",
              "        [0.7820],\n",
              "        [0.7951],\n",
              "        [0.8082],\n",
              "        [0.8213],\n",
              "        [0.8344],\n",
              "        [0.8475],\n",
              "        [0.8606]])"
            ]
          },
          "metadata": {},
          "execution_count": 16
        }
      ]
    },
    {
      "cell_type": "code",
      "source": [
        "plot_data(predictions = y_preds)"
      ],
      "metadata": {
        "colab": {
          "base_uri": "https://localhost:8080/",
          "height": 445
        },
        "id": "l_Qst5pcT3ir",
        "outputId": "919dddd7-aa4d-49fe-d4d6-1add56dba079"
      },
      "execution_count": 17,
      "outputs": [
        {
          "output_type": "display_data",
          "data": {
            "text/plain": [
              "<Figure size 1000x500 with 1 Axes>"
            ],
            "image/png": "[encoded data removed]"
          },
          "metadata": {}
        }
      ]
    },
    {
      "cell_type": "markdown",
      "source": [
        "**5. Saving and loading a PyTorch model**"
      ],
      "metadata": {
        "id": "IoWvrxnJUsI4"
      }
    },
    {
      "cell_type": "code",
      "source": [
        "from pathlib import Path\n",
        "\n",
        "MODEL_PATH = Path(\"models\")\n",
        "MODEL_PATH.mkdir(parents = True, exist_ok = True)\n",
        "\n",
        "MODEL_NAME = \"01_pytorch_workflow_model_0.pth\"\n",
        "MODEL_SAVE_PATH = MODEL_PATH / MODEL_NAME\n",
        "\n",
        "print(f\"Saving model to : {MODEL_SAVE_PATH}\")\n",
        "torch.save(obj = model_0.state_dict(),\n",
        "           f = MODEL_SAVE_PATH)"
      ],
      "metadata": {
        "colab": {
          "base_uri": "https://localhost:8080/"
        },
        "id": "1bycsagNLaql",
        "outputId": "4fd0f7fe-afc4-4ec7-8996-9f93ef84a172"
      },
      "execution_count": 20,
      "outputs": [
        {
          "output_type": "stream",
          "name": "stdout",
          "text": [
            "Saving model to : models/01_pytorch_workflow_model_0.pth\n"
          ]
        }
      ]
    },
    {
      "cell_type": "code",
      "source": [
        "!ls -l models/"
      ],
      "metadata": {
        "colab": {
          "base_uri": "https://localhost:8080/"
        },
        "id": "bhvvlp6YMpZl",
        "outputId": "8aee800f-b69f-42b9-c87c-e14fcbbbc30c"
      },
      "execution_count": 22,
      "outputs": [
        {
          "output_type": "stream",
          "name": "stdout",
          "text": [
            "total 4\n",
            "-rw-r--r-- 1 root root 1680 Jul 16 21:44 01_pytorch_workflow_model_0.pth\n"
          ]
        }
      ]
    },
    {
      "cell_type": "markdown",
      "source": [
        "\n",
        "Loading a saved PyTorch model's state_dict()"
      ],
      "metadata": {
        "id": "9apArqBWM_kn"
      }
    },
    {
      "cell_type": "code",
      "source": [
        "loaded_model_0 = LinearRegressionModel()\n",
        "\n",
        "loaded_model_0.load_state_dict(torch.load(f = MODEL_SAVE_PATH))\n",
        "\n",
        "loaded_model_0.state_dict()"
      ],
      "metadata": {
        "colab": {
          "base_uri": "https://localhost:8080/"
        },
        "id": "o9BtQrQtNBLO",
        "outputId": "6367f2aa-f1a6-4580-b8b5-7c861101d1cd"
      },
      "execution_count": 26,
      "outputs": [
        {
          "output_type": "stream",
          "name": "stdout",
          "text": [
            "from model Parameter containing:\n",
            "tensor([0.2345], requires_grad=True)\n"
          ]
        },
        {
          "output_type": "execute_result",
          "data": {
            "text/plain": [
              "OrderedDict([('weights', tensor([0.6546])), ('bias', tensor([0.2191]))])"
            ]
          },
          "metadata": {},
          "execution_count": 26
        }
      ]
    },
    {
      "cell_type": "code",
      "source": [
        "# TEST THE MODEL USING INFERENCE\n",
        "\n",
        "loaded_model_0.eval()\n",
        "\n",
        "with torch.inference_mode():\n",
        "  loaded_model_preds = loaded_model_0(X_test)\n",
        "\n",
        "\n",
        "loaded_model_preds"
      ],
      "metadata": {
        "colab": {
          "base_uri": "https://localhost:8080/"
        },
        "id": "tHpl75ZkN9XI",
        "outputId": "3f3cb898-a812-4881-d123-5ed032fca210"
      },
      "execution_count": 24,
      "outputs": [
        {
          "output_type": "execute_result",
          "data": {
            "text/plain": [
              "tensor([[0.7428],\n",
              "        [0.7559],\n",
              "        [0.7689],\n",
              "        [0.7820],\n",
              "        [0.7951],\n",
              "        [0.8082],\n",
              "        [0.8213],\n",
              "        [0.8344],\n",
              "        [0.8475],\n",
              "        [0.8606]])"
            ]
          },
          "metadata": {},
          "execution_count": 24
        }
      ]
    },
    {
      "cell_type": "code",
      "source": [
        "y_preds == loaded_model_preds"
      ],
      "metadata": {
        "colab": {
          "base_uri": "https://localhost:8080/"
        },
        "id": "bqmTCUsSO7nR",
        "outputId": "65502931-ffa0-4b56-f752-b4215e8c3710"
      },
      "execution_count": 25,
      "outputs": [
        {
          "output_type": "execute_result",
          "data": {
            "text/plain": [
              "tensor([[True],\n",
              "        [True],\n",
              "        [True],\n",
              "        [True],\n",
              "        [True],\n",
              "        [True],\n",
              "        [True],\n",
              "        [True],\n",
              "        [True],\n",
              "        [True]])"
            ]
          },
          "metadata": {},
          "execution_count": 25
        }
      ]
    },
    {
      "cell_type": "code",
      "source": [],
      "metadata": {
        "id": "kyI-tsGCThYK"
      },
      "execution_count": null,
      "outputs": []
    }
  ]
}