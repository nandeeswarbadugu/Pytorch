{
  "nbformat": 4,
  "nbformat_minor": 0,
  "metadata": {
    "colab": {
      "provenance": [],
      "authorship_tag": "ABX9TyP5Po+oC1IPQT4FWQUJxi6w",
      "include_colab_link": true
    },
    "kernelspec": {
      "name": "python3",
      "display_name": "Python 3"
    },
    "language_info": {
      "name": "python"
    }
  },
  "cells": [
    {
      "cell_type": "markdown",
      "metadata": {
        "id": "view-in-github",
        "colab_type": "text"
      },
      "source": [
        "<a href=\"https://colab.research.google.com/github/nandeeswarbadugu/Pytorch/blob/main/workflow_fun.ipynb\" target=\"_parent\"><img src=\"https://colab.research.google.com/assets/colab-badge.svg\" alt=\"Open In Colab\"/></a>"
      ]
    },
    {
      "cell_type": "markdown",
      "source": [
        "Machine Learning is all about\n",
        "1. Create DataSets\n",
        "2. Pick or Build Model\n",
        "3. Evaluate Model\n"
      ],
      "metadata": {
        "id": "taQMAaUVLf2_"
      }
    },
    {
      "cell_type": "markdown",
      "source": [],
      "metadata": {
        "id": "3x4oorN-Le3M"
      }
    },
    {
      "cell_type": "markdown",
      "source": [
        "What we're going to cover\n",
        "In this module we're going to cover a standard PyTorch workflow (it can be chopped and changed as necessary but it covers the main outline of steps).\n",
        "\n",
        "a pytorch workflow flowchat\n"
      ],
      "metadata": {
        "id": "OtrJApBq38oj"
      }
    },
    {
      "cell_type": "code",
      "source": [
        "# Specifically, we're going to cover:\n",
        "\n",
        "# Topic\tContents\n",
        "# 1. Getting data ready\tData can be almost anything but to get started we're going to create a simple straight line\n",
        "# 2. Building a model\tHere we'll create a model to learn patterns in the data, we'll also choose a loss function, optimizer and build a training loop.\n",
        "# 3. Fitting the model to data (training)\tWe've got data and a model, now let's let the model (try to) find patterns in the (training) data.\n",
        "# 4. Making predictions and evaluating a model (inference)\tOur model's found patterns in the data, let's compare its findings to the actual (testing) data.\n",
        "# 5. Saving and loading a model\tYou may want to use your model elsewhere, or come back to it later, here we'll cover that.\n",
        "# 6. Putting it all together\tLet's take all of the above and combine it.\n"
      ],
      "metadata": {
        "id": "w2gFYHiy4lU0"
      },
      "execution_count": 2,
      "outputs": []
    },
    {
      "cell_type": "code",
      "execution_count": 3,
      "metadata": {
        "id": "ze2rmrOyLUMp",
        "colab": {
          "base_uri": "https://localhost:8080/",
          "height": 35
        },
        "outputId": "bf068398-505b-4b52-870b-5e4a4e404c86"
      },
      "outputs": [
        {
          "output_type": "execute_result",
          "data": {
            "text/plain": [
              "'2.6.0+cu124'"
            ],
            "application/vnd.google.colaboratory.intrinsic+json": {
              "type": "string"
            }
          },
          "metadata": {},
          "execution_count": 3
        }
      ],
      "source": [
        "import torch\n",
        "from torch import nn\n",
        "import matplotlib.pyplot as plt\n",
        "\n",
        "torch.__version__"
      ]
    },
    {
      "cell_type": "markdown",
      "source": [
        "1. Data (preparing and loading)\n"
      ],
      "metadata": {
        "id": "nvnvI1QS4hyV"
      }
    },
    {
      "cell_type": "code",
      "source": [
        "weight = 0.7\n",
        "bias = 0.3\n",
        "\n",
        "# Create Data\n",
        "start  = 0\n",
        "end = 1\n",
        "step = 0.02\n",
        "X = torch.arange(start, end, step).unsqueeze(dim = 1)\n",
        "y = weight * X + bias\n",
        "X[:10], y[:10]"
      ],
      "metadata": {
        "colab": {
          "base_uri": "https://localhost:8080/"
        },
        "id": "D4iMFSob4gjl",
        "outputId": "c832db85-9bc8-44d3-e617-3890aa49dbd7"
      },
      "execution_count": 4,
      "outputs": [
        {
          "output_type": "execute_result",
          "data": {
            "text/plain": [
              "(tensor([[0.0000],\n",
              "         [0.0200],\n",
              "         [0.0400],\n",
              "         [0.0600],\n",
              "         [0.0800],\n",
              "         [0.1000],\n",
              "         [0.1200],\n",
              "         [0.1400],\n",
              "         [0.1600],\n",
              "         [0.1800]]),\n",
              " tensor([[0.3000],\n",
              "         [0.3140],\n",
              "         [0.3280],\n",
              "         [0.3420],\n",
              "         [0.3560],\n",
              "         [0.3700],\n",
              "         [0.3840],\n",
              "         [0.3980],\n",
              "         [0.4120],\n",
              "         [0.4260]]))"
            ]
          },
          "metadata": {},
          "execution_count": 4
        }
      ]
    },
    {
      "cell_type": "markdown",
      "source": [
        "Now we're going to move towards building a model that can learn the relationship between X (features) and y (labels).\n",
        "\n",
        "\n",
        "Split data into training and test sets\n",
        "\n",
        "we are not using validation test here\n",
        "\n"
      ],
      "metadata": {
        "id": "0IqPUKO65kAD"
      }
    },
    {
      "cell_type": "code",
      "source": [
        "split_percent = int(0.8 * len(X))\n",
        "X_train, y_train = X[:split_percent], y[:split_percent]\n",
        "X_test, y_test = X[split_percent:], y[split_percent:]\n",
        "\n",
        "len(X_train), len(y_train), len(X_test), len(y_test)"
      ],
      "metadata": {
        "colab": {
          "base_uri": "https://localhost:8080/"
        },
        "id": "vDyX2Ily52K6",
        "outputId": "6ec3cb51-5b02-44a0-d6df-3398ddae2b67"
      },
      "execution_count": 5,
      "outputs": [
        {
          "output_type": "execute_result",
          "data": {
            "text/plain": [
              "(40, 40, 10, 10)"
            ]
          },
          "metadata": {},
          "execution_count": 5
        }
      ]
    },
    {
      "cell_type": "markdown",
      "source": [
        "Till now we only have data we are not using it for anything let's visualize it on"
      ],
      "metadata": {
        "id": "_4aWNlnK6fiK"
      }
    },
    {
      "cell_type": "code",
      "source": [
        "def plot_data(train_data = X_train,\n",
        "              train_labels = y_train,\n",
        "              test_data = X_test,\n",
        "              test_labels = y_test,\n",
        "              predictions = None):\n",
        "  plt.figure(figsize=(10,7))\n",
        "\n",
        "  plt.scatter(train_data, train_labels, c = \"b\", s = 4, label=\"Training data\")\n",
        "\n",
        "  plt.scatter(test_data, test_labels, c=\"g\", s=4, label=\"Testing data\")\n",
        "\n",
        "  if predictions is not None:\n",
        "    # Plot the predictions in red (predictions were made on the test data)\n",
        "    plt.scatter(test_data, predictions, c=\"r\", s=4, label=\"Predictions\")\n",
        "\n",
        "  # Show the legend\n",
        "  plt.legend(prop={\"size\": 14});\n",
        "\n",
        "plot_data()"
      ],
      "metadata": {
        "colab": {
          "base_uri": "https://localhost:8080/",
          "height": 599
        },
        "id": "ygIrt1Jz6ey_",
        "outputId": "daabb214-3702-4957-9993-b5def8d1d495"
      },
      "execution_count": 6,
      "outputs": [
        {
          "output_type": "display_data",
          "data": {
            "text/plain": [
              "<Figure size 1000x700 with 1 Axes>"
            ],
            "image/png": "[encoded data removed]"
          },
          "metadata": {}
        }
      ]
    },
    {
      "cell_type": "markdown",
      "source": [
        "2. Earlier we had created Data & Plotted it to visualize Now we will build model but not train it"
      ],
      "metadata": {
        "id": "eLsBqmiu_F9-"
      }
    },
    {
      "cell_type": "code",
      "source": [
        "class LinearRegressionModel(nn.Module):\n",
        "  def __init__(self):\n",
        "      super().__init__()\n",
        "      self.weights = nn.Parameter(torch.randn(1, dtype = torch.float), requires_grad= True)\n",
        "      self.bias = nn.Parameter(torch.randn(1, dtype = torch.float), requires_grad = True)\n",
        "      print(f\"from model {self.weights}\")\n",
        "\n",
        "  def forward(self, X : torch.Tensor) -> torch.Tensor:\n",
        "    return self.weights * X + self.bias"
      ],
      "metadata": {
        "id": "mipRCADJ_FdF"
      },
      "execution_count": 7,
      "outputs": []
    },
    {
      "cell_type": "markdown",
      "source": [
        "We'll be using Python classes to create bits and pieces for building neural networks. If you're unfamiliar with Python class notation, I'd recommend reading Real Python's Object Orientating programming in Python 3 guide a few times."
      ],
      "metadata": {
        "id": "Ve8nwjadAzE4"
      }
    },
    {
      "cell_type": "code",
      "source": [
        "# Checking contents of pytorch model\n",
        "\n",
        "torch.manual_seed(100)\n",
        "\n",
        "model_0 = LinearRegressionModel()\n",
        "\n",
        "list(model_0.parameters())"
      ],
      "metadata": {
        "colab": {
          "base_uri": "https://localhost:8080/"
        },
        "id": "U1fLK6ZeSamh",
        "outputId": "b180badb-b9ca-49fe-d3ef-31c9daa25c7e"
      },
      "execution_count": 8,
      "outputs": [
        {
          "output_type": "stream",
          "name": "stdout",
          "text": [
            "from model Parameter containing:\n",
            "tensor([0.3607], requires_grad=True)\n"
          ]
        },
        {
          "output_type": "execute_result",
          "data": {
            "text/plain": [
              "[Parameter containing:\n",
              " tensor([0.3607], requires_grad=True),\n",
              " Parameter containing:\n",
              " tensor([-0.2859], requires_grad=True)]"
            ]
          },
          "metadata": {},
          "execution_count": 8
        }
      ]
    },
    {
      "cell_type": "markdown",
      "source": [
        "\n",
        "We can also get the state (what the model contains) of the model using .state_dict()."
      ],
      "metadata": {
        "id": "mGkHiVPETdK1"
      }
    },
    {
      "cell_type": "code",
      "source": [
        "\n",
        "# List named parameters\n",
        "model_0.state_dict()\n"
      ],
      "metadata": {
        "colab": {
          "base_uri": "https://localhost:8080/"
        },
        "id": "ltlaS63_TZD_",
        "outputId": "b3c16907-dfcc-4c3a-b3de-b68c1165d90e"
      },
      "execution_count": 9,
      "outputs": [
        {
          "output_type": "execute_result",
          "data": {
            "text/plain": [
              "OrderedDict([('weights', tensor([0.3607])), ('bias', tensor([-0.2859]))])"
            ]
          },
          "metadata": {},
          "execution_count": 9
        }
      ]
    },
    {
      "cell_type": "markdown",
      "source": [
        "\n",
        "Making predictions using torch.inference_mode()"
      ],
      "metadata": {
        "id": "4x0hMjxvtCz-"
      }
    },
    {
      "cell_type": "code",
      "source": [
        "with torch.inference_mode():\n",
        "  y_preds = model_0(X_test)"
      ],
      "metadata": {
        "id": "xYqwHlb7tE3m"
      },
      "execution_count": 10,
      "outputs": []
    },
    {
      "cell_type": "code",
      "source": [
        "# Check the predictions\n",
        "print(f\"Number of testing samples: {len(X_test)}\")\n",
        "print(f\"Number of predictions made: {len(y_preds)}\")\n",
        "print(f\"Predicted values:\\n{y_preds}\")"
      ],
      "metadata": {
        "colab": {
          "base_uri": "https://localhost:8080/"
        },
        "id": "rMiwimqzty9_",
        "outputId": "f8b0c743-fafa-40be-d5a2-e25e7e379b4d"
      },
      "execution_count": 11,
      "outputs": [
        {
          "output_type": "stream",
          "name": "stdout",
          "text": [
            "Number of testing samples: 10\n",
            "Number of predictions made: 10\n",
            "Predicted values:\n",
            "tensor([[0.0026],\n",
            "        [0.0098],\n",
            "        [0.0170],\n",
            "        [0.0242],\n",
            "        [0.0315],\n",
            "        [0.0387],\n",
            "        [0.0459],\n",
            "        [0.0531],\n",
            "        [0.0603],\n",
            "        [0.0675]])\n"
          ]
        }
      ]
    },
    {
      "cell_type": "code",
      "source": [
        "plot_data(predictions=y_preds)"
      ],
      "metadata": {
        "colab": {
          "base_uri": "https://localhost:8080/",
          "height": 599
        },
        "id": "lwz0aaW7t-qJ",
        "outputId": "e41022be-e08f-482b-a7d4-788d39c75c8d"
      },
      "execution_count": 12,
      "outputs": [
        {
          "output_type": "display_data",
          "data": {
            "text/plain": [
              "<Figure size 1000x700 with 1 Axes>"
            ],
            "image/png": "[encoded data removed]"
          },
          "metadata": {}
        }
      ]
    },
    {
      "cell_type": "markdown",
      "source": [
        "3. Train model\n",
        "Right now our model is making predictions using random parameters to make calculations, it's basically guessing (randomly).\n",
        "\n",
        "To fix that, we can update its internal parameters (I also refer to parameters as patterns), the weights and bias values we set randomly using nn.Parameter() and torch.randn() to be something that better represents the data.\n",
        "\n",
        "We could hard code this (since we know the default values weight=0.7 and bias=0.3) but where's the fun in that?\n",
        "\n",
        "Much of the time you won't know what the ideal parameters are for a model.\n",
        "\n",
        "Instead, it's much more fun to write code to see if the model can try and figure them out itself.\n",
        "\n",
        "Creating a loss function and optimizer in PyTorch\n",
        "For our model to update its parameters on its own, we'll need to add a few more things to our recipe.\n",
        "\n",
        "And that's a loss function as well as an optimizer."
      ],
      "metadata": {
        "id": "17q2uPb2wux2"
      }
    },
    {
      "cell_type": "code",
      "source": [
        "loss_fn = nn.L1Loss()\n",
        "\n",
        "# optimizer\n",
        "\n",
        "optimizer = torch.optim.SGD(params=model_0.parameters(),\n",
        "                            lr = 0.01) # learning rate (how much the optimizer should change parameters at each step, higher=more (less stable), lower=less (might take a long time))"
      ],
      "metadata": {
        "id": "H2qs3kqYzK6H"
      },
      "execution_count": null,
      "outputs": []
    }
  ]
}