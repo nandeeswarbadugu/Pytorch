{
  "nbformat": 4,
  "nbformat_minor": 0,
  "metadata": {
    "colab": {
      "provenance": [],
      "authorship_tag": "ABX9TyN6qjtnyfaVxXo8EehXipsJ",
      "include_colab_link": true
    },
    "kernelspec": {
      "name": "python3",
      "display_name": "Python 3"
    },
    "language_info": {
      "name": "python"
    }
  },
  "cells": [
    {
      "cell_type": "markdown",
      "metadata": {
        "id": "view-in-github",
        "colab_type": "text"
      },
      "source": [
        "<a href=\"https://colab.research.google.com/github/nandeeswarbadugu/Pytorch/blob/main/workflow_fun.ipynb\" target=\"_parent\"><img src=\"https://colab.research.google.com/assets/colab-badge.svg\" alt=\"Open In Colab\"/></a>"
      ]
    },
    {
      "cell_type": "markdown",
      "source": [
        "Machine Learning is all about\n",
        "1. Create DataSets\n",
        "2. Pick or Build Model\n",
        "3. Evaluate Model\n"
      ],
      "metadata": {
        "id": "taQMAaUVLf2_"
      }
    },
    {
      "cell_type": "markdown",
      "source": [],
      "metadata": {
        "id": "3x4oorN-Le3M"
      }
    },
    {
      "cell_type": "markdown",
      "source": [
        "What we're going to cover\n",
        "In this module we're going to cover a standard PyTorch workflow (it can be chopped and changed as necessary but it covers the main outline of steps).\n",
        "\n",
        "a pytorch workflow flowchat\n"
      ],
      "metadata": {
        "id": "OtrJApBq38oj"
      }
    },
    {
      "cell_type": "code",
      "source": [
        "# Specifically, we're going to cover:\n",
        "\n",
        "# Topic\tContents\n",
        "# 1. Getting data ready\tData can be almost anything but to get started we're going to create a simple straight line\n",
        "# 2. Building a model\tHere we'll create a model to learn patterns in the data, we'll also choose a loss function, optimizer and build a training loop.\n",
        "# 3. Fitting the model to data (training)\tWe've got data and a model, now let's let the model (try to) find patterns in the (training) data.\n",
        "# 4. Making predictions and evaluating a model (inference)\tOur model's found patterns in the data, let's compare its findings to the actual (testing) data.\n",
        "# 5. Saving and loading a model\tYou may want to use your model elsewhere, or come back to it later, here we'll cover that.\n",
        "# 6. Putting it all together\tLet's take all of the above and combine it.\n"
      ],
      "metadata": {
        "id": "w2gFYHiy4lU0"
      },
      "execution_count": 49,
      "outputs": []
    },
    {
      "cell_type": "code",
      "execution_count": 50,
      "metadata": {
        "id": "ze2rmrOyLUMp",
        "colab": {
          "base_uri": "https://localhost:8080/",
          "height": 35
        },
        "outputId": "1edf95bd-5808-4818-cf78-7ba5de13b008"
      },
      "outputs": [
        {
          "output_type": "execute_result",
          "data": {
            "text/plain": [
              "'2.6.0+cu124'"
            ],
            "application/vnd.google.colaboratory.intrinsic+json": {
              "type": "string"
            }
          },
          "metadata": {},
          "execution_count": 50
        }
      ],
      "source": [
        "import torch\n",
        "from torch import nn\n",
        "import matplotlib.pyplot as plt\n",
        "\n",
        "torch.__version__"
      ]
    },
    {
      "cell_type": "markdown",
      "source": [
        "1. Data (preparing and loading)\n"
      ],
      "metadata": {
        "id": "nvnvI1QS4hyV"
      }
    },
    {
      "cell_type": "code",
      "source": [
        "weight = 0.7\n",
        "bias = 0.2\n",
        "\n",
        "# Create Data\n",
        "start  = 0\n",
        "end = 1\n",
        "step = 0.02\n",
        "X = torch.arange(start, end, step).unsqueeze(dim = 1)\n",
        "y = weight * X + bias\n",
        "X[:10], y[:10]"
      ],
      "metadata": {
        "colab": {
          "base_uri": "https://localhost:8080/"
        },
        "id": "D4iMFSob4gjl",
        "outputId": "dd6c9aec-e2ea-496c-ff72-88baff4d0e56"
      },
      "execution_count": 51,
      "outputs": [
        {
          "output_type": "execute_result",
          "data": {
            "text/plain": [
              "(tensor([[0.0000],\n",
              "         [0.0200],\n",
              "         [0.0400],\n",
              "         [0.0600],\n",
              "         [0.0800],\n",
              "         [0.1000],\n",
              "         [0.1200],\n",
              "         [0.1400],\n",
              "         [0.1600],\n",
              "         [0.1800]]),\n",
              " tensor([[0.2000],\n",
              "         [0.2140],\n",
              "         [0.2280],\n",
              "         [0.2420],\n",
              "         [0.2560],\n",
              "         [0.2700],\n",
              "         [0.2840],\n",
              "         [0.2980],\n",
              "         [0.3120],\n",
              "         [0.3260]]))"
            ]
          },
          "metadata": {},
          "execution_count": 51
        }
      ]
    },
    {
      "cell_type": "markdown",
      "source": [
        "Now we're going to move towards building a model that can learn the relationship between X (features) and y (labels).\n",
        "\n",
        "\n",
        "Split data into training and test sets\n",
        "\n",
        "we are not using validation test here\n",
        "\n"
      ],
      "metadata": {
        "id": "0IqPUKO65kAD"
      }
    },
    {
      "cell_type": "code",
      "source": [
        "split_percent = int(0.8 * len(X))\n",
        "X_train, y_train = X[:split_percent], y[:split_percent]\n",
        "X_test, y_test = X[split_percent:], y[split_percent:]\n",
        "\n",
        "len(X_train), len(y_train), len(X_test), len(y_test)"
      ],
      "metadata": {
        "colab": {
          "base_uri": "https://localhost:8080/"
        },
        "id": "vDyX2Ily52K6",
        "outputId": "b508d35e-2cdf-4a8c-b694-1659a000169c"
      },
      "execution_count": 52,
      "outputs": [
        {
          "output_type": "execute_result",
          "data": {
            "text/plain": [
              "(40, 40, 10, 10)"
            ]
          },
          "metadata": {},
          "execution_count": 52
        }
      ]
    },
    {
      "cell_type": "markdown",
      "source": [
        "Till now we only have data we are not using it for anything let's visualize it on"
      ],
      "metadata": {
        "id": "_4aWNlnK6fiK"
      }
    },
    {
      "cell_type": "code",
      "source": [
        "def plot_data(train_data = X_train,\n",
        "              train_labels = y_train,\n",
        "              test_data = X_test,\n",
        "              test_labels = y_test,\n",
        "              predictions = None):\n",
        "  plt.figure(figsize=(10,7))\n",
        "\n",
        "  plt.scatter(train_data, train_labels, c = \"b\", s = 4, label=\"Training data\")\n",
        "\n",
        "  plt.scatter(test_data, test_labels, c=\"g\", s=4, label=\"Testing data\")\n",
        "\n",
        "  if predictions is not None:\n",
        "    # Plot the predictions in red (predictions were made on the test data)\n",
        "    plt.scatter(test_data, predictions, c=\"r\", s=4, label=\"Predictions\")\n",
        "\n",
        "  # Show the legend\n",
        "  plt.legend(prop={\"size\": 14});\n",
        "\n",
        "plot_data()"
      ],
      "metadata": {
        "colab": {
          "base_uri": "https://localhost:8080/",
          "height": 599
        },
        "id": "ygIrt1Jz6ey_",
        "outputId": "a8576911-4ebd-4026-ec0b-0ab1c4e43586"
      },
      "execution_count": 53,
      "outputs": [
        {
          "output_type": "display_data",
          "data": {
            "text/plain": [
              "<Figure size 1000x700 with 1 Axes>"
            ],
            "image/png": "[encoded data removed]"
          },
          "metadata": {}
        }
      ]
    },
    {
      "cell_type": "markdown",
      "source": [
        "2. Earlier we had created Data & Plotted it to visualize Now we will build model but not train it"
      ],
      "metadata": {
        "id": "eLsBqmiu_F9-"
      }
    },
    {
      "cell_type": "code",
      "source": [
        "class LinearRegressionModel(nn.Module):\n",
        "  def __init__(self):\n",
        "      super().__init__()\n",
        "      self.weights = nn.Parameter(torch.randn(1, dtype = torch.float), requires_grad= True)\n",
        "      self.bias = nn.Parameter(torch.randn(1, dtype = torch.float), requires_grad = True)\n",
        "      print(f\"from model {self.weights}\")\n",
        "\n",
        "  def forward(self, X : torch.Tensor) -> torch.Tensor:\n",
        "    return self.weights * X + self.bias"
      ],
      "metadata": {
        "id": "mipRCADJ_FdF"
      },
      "execution_count": 54,
      "outputs": []
    },
    {
      "cell_type": "markdown",
      "source": [
        "We'll be using Python classes to create bits and pieces for building neural networks. If you're unfamiliar with Python class notation, I'd recommend reading Real Python's Object Orientating programming in Python 3 guide a few times."
      ],
      "metadata": {
        "id": "Ve8nwjadAzE4"
      }
    },
    {
      "cell_type": "code",
      "source": [
        "# Checking contents of pytorch model\n",
        "\n",
        "torch.manual_seed(100)\n",
        "\n",
        "model_0 = LinearRegressionModel()\n",
        "\n",
        "list(model_0.parameters())"
      ],
      "metadata": {
        "colab": {
          "base_uri": "https://localhost:8080/"
        },
        "id": "U1fLK6ZeSamh",
        "outputId": "0de0ae02-a99c-4c0c-da87-d8dd3c2b6034"
      },
      "execution_count": 55,
      "outputs": [
        {
          "output_type": "stream",
          "name": "stdout",
          "text": [
            "from model Parameter containing:\n",
            "tensor([0.3607], requires_grad=True)\n"
          ]
        },
        {
          "output_type": "execute_result",
          "data": {
            "text/plain": [
              "[Parameter containing:\n",
              " tensor([0.3607], requires_grad=True),\n",
              " Parameter containing:\n",
              " tensor([-0.2859], requires_grad=True)]"
            ]
          },
          "metadata": {},
          "execution_count": 55
        }
      ]
    },
    {
      "cell_type": "markdown",
      "source": [
        "\n",
        "We can also get the state (what the model contains) of the model using .state_dict()."
      ],
      "metadata": {
        "id": "mGkHiVPETdK1"
      }
    },
    {
      "cell_type": "code",
      "source": [
        "\n",
        "# List named parameters\n",
        "model_0.state_dict()\n"
      ],
      "metadata": {
        "colab": {
          "base_uri": "https://localhost:8080/"
        },
        "id": "ltlaS63_TZD_",
        "outputId": "515cfb6f-7925-44ee-9758-5d4e69598ef4"
      },
      "execution_count": 56,
      "outputs": [
        {
          "output_type": "execute_result",
          "data": {
            "text/plain": [
              "OrderedDict([('weights', tensor([0.3607])), ('bias', tensor([-0.2859]))])"
            ]
          },
          "metadata": {},
          "execution_count": 56
        }
      ]
    },
    {
      "cell_type": "markdown",
      "source": [
        "\n",
        "Making predictions using torch.inference_mode()"
      ],
      "metadata": {
        "id": "4x0hMjxvtCz-"
      }
    },
    {
      "cell_type": "code",
      "source": [
        "with torch.inference_mode():\n",
        "  y_preds = model_0(X_test)"
      ],
      "metadata": {
        "id": "xYqwHlb7tE3m"
      },
      "execution_count": 57,
      "outputs": []
    },
    {
      "cell_type": "code",
      "source": [
        "# Check the predictions\n",
        "print(f\"Number of testing samples: {len(X_test)}\")\n",
        "print(f\"Number of predictions made: {len(y_preds)}\")\n",
        "print(f\"Predicted values:\\n{y_preds}\")"
      ],
      "metadata": {
        "colab": {
          "base_uri": "https://localhost:8080/"
        },
        "id": "rMiwimqzty9_",
        "outputId": "e2240135-c303-47c6-f31d-6f72aba06146"
      },
      "execution_count": 58,
      "outputs": [
        {
          "output_type": "stream",
          "name": "stdout",
          "text": [
            "Number of testing samples: 10\n",
            "Number of predictions made: 10\n",
            "Predicted values:\n",
            "tensor([[0.0026],\n",
            "        [0.0098],\n",
            "        [0.0170],\n",
            "        [0.0242],\n",
            "        [0.0315],\n",
            "        [0.0387],\n",
            "        [0.0459],\n",
            "        [0.0531],\n",
            "        [0.0603],\n",
            "        [0.0675]])\n"
          ]
        }
      ]
    },
    {
      "cell_type": "code",
      "source": [
        "plot_data(predictions=y_preds)"
      ],
      "metadata": {
        "colab": {
          "base_uri": "https://localhost:8080/",
          "height": 599
        },
        "id": "lwz0aaW7t-qJ",
        "outputId": "90eddbe9-201a-4703-def5-80311618d5a2"
      },
      "execution_count": 59,
      "outputs": [
        {
          "output_type": "display_data",
          "data": {
            "text/plain": [
              "<Figure size 1000x700 with 1 Axes>"
            ],
            "image/png": "[encoded data removed]"
          },
          "metadata": {}
        }
      ]
    },
    {
      "cell_type": "markdown",
      "source": [
        "3. Train model\n",
        "Right now our model is making predictions using random parameters to make calculations, it's basically guessing (randomly).\n",
        "\n",
        "To fix that, we can update its internal parameters (I also refer to parameters as patterns), the weights and bias values we set randomly using nn.Parameter() and torch.randn() to be something that better represents the data.\n",
        "\n",
        "We could hard code this (since we know the default values weight=0.7 and bias=0.3) but where's the fun in that?\n",
        "\n",
        "Much of the time you won't know what the ideal parameters are for a model.\n",
        "\n",
        "Instead, it's much more fun to write code to see if the model can try and figure them out itself.\n",
        "\n",
        "Creating a loss function and optimizer in PyTorch\n",
        "For our model to update its parameters on its own, we'll need to add a few more things to our recipe.\n",
        "\n",
        "And that's a loss function as well as an optimizer."
      ],
      "metadata": {
        "id": "17q2uPb2wux2"
      }
    },
    {
      "cell_type": "code",
      "source": [
        "loss_fn = nn.L1Loss()\n",
        "\n",
        "# optimizer\n",
        "\n",
        "optimizer = torch.optim.SGD(params=model_0.parameters(),\n",
        "                            lr = 0.01) # learning rate (how much the optimizer should change parameters at each step, higher=more (less stable), lower=less (might take a long time))"
      ],
      "metadata": {
        "id": "H2qs3kqYzK6H"
      },
      "execution_count": 60,
      "outputs": []
    },
    {
      "cell_type": "code",
      "source": [
        "torch.manual_seed(42)\n",
        "\n",
        "epochs = 100\n",
        "\n",
        "train_loss_values = []\n",
        "test_loss_values = []\n",
        "epoch_count = []\n",
        "\n",
        "for epoch in range(epochs):\n",
        "  # Training\n",
        "\n",
        "  # Put model in training mode (this is the default state of a model)\n",
        "  model_0.train()\n",
        "\n",
        "  # 1. Forward pass on train data using the forward() method inside\n",
        "  y_pred = model_0(X_train)\n",
        "  # print(y_pred)\n",
        "\n",
        "  # 2. Calculate the loss (how different are our models predictions to the ground truth)\n",
        "  loss = loss_fn(y_pred, y_train)\n",
        "\n",
        "  # 3. Zero grad of the optimizer\n",
        "  optimizer.zero_grad()\n",
        "\n",
        "  # 4. Loss backwards\n",
        "  loss.backward()\n",
        "\n",
        "  # 5. Progress the optimizer\n",
        "  optimizer.step()\n",
        "\n",
        "\n",
        "  # Testing\n",
        "\n",
        "  # Put the model in evaluation mode\n",
        "  model_0.eval()\n",
        "\n",
        "  with torch.inference_mode():\n",
        "\n",
        "    test_pred = model_0(X_test)\n",
        "\n",
        "    test_loss = loss_fn(test_pred, y_test.type(torch.float))\n",
        "\n",
        "    if epoch %10 == 0:\n",
        "      epoch_count.append(epoch)\n",
        "      train_loss_values.append(loss.detach().numpy())\n",
        "      test_loss_values.append(test_loss.detach().numpy())\n",
        "      print(f\"Epoch: {epoch} | MAE Train Loss: {loss} | MAE Test Loss: {test_loss} \")\n",
        "\n",
        "\n",
        "\n"
      ],
      "metadata": {
        "colab": {
          "base_uri": "https://localhost:8080/"
        },
        "id": "U2UopE4a1iur",
        "outputId": "ea345cba-761f-4a7e-bef4-dd757b6f5903"
      },
      "execution_count": 61,
      "outputs": [
        {
          "output_type": "stream",
          "name": "stdout",
          "text": [
            "Epoch: 0 | MAE Train Loss: 0.6182652711868286 | MAE Test Loss: 0.7744663953781128 \n",
            "Epoch: 10 | MAE Train Loss: 0.5030553936958313 | MAE Test Loss: 0.639756441116333 \n",
            "Epoch: 20 | MAE Train Loss: 0.3878454267978668 | MAE Test Loss: 0.5050464868545532 \n",
            "Epoch: 30 | MAE Train Loss: 0.27263545989990234 | MAE Test Loss: 0.3703365921974182 \n",
            "Epoch: 40 | MAE Train Loss: 0.15742547810077667 | MAE Test Loss: 0.23562665283679962 \n",
            "Epoch: 50 | MAE Train Loss: 0.04504556208848953 | MAE Test Loss: 0.10451464354991913 \n",
            "Epoch: 60 | MAE Train Loss: 0.023052919656038284 | MAE Test Loss: 0.05672663450241089 \n",
            "Epoch: 70 | MAE Train Loss: 0.01942858286201954 | MAE Test Loss: 0.04435061663389206 \n",
            "Epoch: 80 | MAE Train Loss: 0.015999123454093933 | MAE Test Loss: 0.036765046417713165 \n",
            "Epoch: 90 | MAE Train Loss: 0.012563762255012989 | MAE Test Loss: 0.028492575511336327 \n"
          ]
        }
      ]
    },
    {
      "cell_type": "code",
      "source": [
        "# Plot the bot the loss\n",
        "\n",
        "plt.plot(epoch_count, train_loss_values, label = \"Train Loss\")\n",
        "plt.plot(epoch_count, test_loss_values, label = \"Test Loss\")\n",
        "plt.title(\"Training and test Loss Curves\")\n",
        "plt.ylabel(\"Loss\")\n",
        "plt.xlabel(\"Epochs\")\n",
        "plt.legend()"
      ],
      "metadata": {
        "colab": {
          "base_uri": "https://localhost:8080/",
          "height": 490
        },
        "id": "O3aUp5IYFF_7",
        "outputId": "e3e7cf2f-5311-40ce-b5ae-f44260eda19b"
      },
      "execution_count": 62,
      "outputs": [
        {
          "output_type": "execute_result",
          "data": {
            "text/plain": [
              "<matplotlib.legend.Legend at 0x7b6711724550>"
            ]
          },
          "metadata": {},
          "execution_count": 62
        },
        {
          "output_type": "display_data",
          "data": {
            "text/plain": [
              "<Figure size 640x480 with 1 Axes>"
            ],
            "image/png": "[encoded data removed]"
          },
          "metadata": {}
        }
      ]
    },
    {
      "cell_type": "markdown",
      "source": [
        "Nice! The loss curves show the loss going down over time. Remember, loss is the measure of how wrong your model is, so the lower the better.\n",
        "\n",
        "But why did the loss go down?\n",
        "\n",
        "Well, thanks to our loss function and optimizer, the model's internal parameters (weights and bias) were updated to better reflect the underlying patterns in the data.\n",
        "\n",
        "Let's inspect our model's .state_dict() to see how close our model gets to the original values we set for weights and bias."
      ],
      "metadata": {
        "id": "vyu4XjL2GOIc"
      }
    },
    {
      "cell_type": "code",
      "source": [
        "# Find our model's learned parameters\n",
        "print(\"The model learned the following values for weights and bias:\")\n",
        "print(model_0.state_dict())\n",
        "print(\"\\nAnd the original values for weights and bias are:\")\n",
        "print(f\"weights: {weight}, bias: {bias}\")"
      ],
      "metadata": {
        "colab": {
          "base_uri": "https://localhost:8080/"
        },
        "id": "6uHDyvhoGSBI",
        "outputId": "0627cc04-6b60-4ac4-888b-bc9acf059328"
      },
      "execution_count": 64,
      "outputs": [
        {
          "output_type": "stream",
          "name": "stdout",
          "text": [
            "The model learned the following values for weights and bias:\n",
            "OrderedDict([('weights', tensor([0.6546])), ('bias', tensor([0.2191]))])\n",
            "\n",
            "And the original values for weights and bias are:\n",
            "weights: 0.7, bias: 0.2\n"
          ]
        }
      ]
    }
  ]
}